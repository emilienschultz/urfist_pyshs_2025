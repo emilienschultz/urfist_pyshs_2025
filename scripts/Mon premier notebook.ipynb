{
 "cells": [
  {
   "cell_type": "markdown",
   "id": "aba8bbce-d0f4-4811-bc13-aaad8aeb0698",
   "metadata": {},
   "source": [
    "# Premier notebook"
   ]
  },
  {
   "cell_type": "markdown",
   "id": "3776571a-4bcd-40b4-9040-25c5b6b1ff65",
   "metadata": {},
   "source": [
    "## Dossier courant\n",
    "\n",
    "Trouver le dossier courant : commande `pwd`"
   ]
  },
  {
   "cell_type": "code",
   "execution_count": 1,
   "id": "baaf8906-0f8f-406e-bd07-666c5f0c796d",
   "metadata": {},
   "outputs": [
    {
     "data": {
      "text/plain": [
       "'/Users/emilien/Dropbox/Python pour les SHS/Formations/2025-01-27 URFIST Lyon/urfist_pyshs_2025/scripts'"
      ]
     },
     "execution_count": 1,
     "metadata": {},
     "output_type": "execute_result"
    }
   ],
   "source": [
    "pwd"
   ]
  },
  {
   "cell_type": "markdown",
   "id": "b84c51ce-8915-48b1-a69e-baed109008bc",
   "metadata": {},
   "source": [
    "## Raccourcis\n",
    "\n",
    "- b : créer une nouvelle cellule\n",
    "- dd : supprimer une cellule\n",
    "- maj + entrer : exécuter\n",
    "- flèches pour circuler\n",
    "- m pour transformer une cellule en markdown"
   ]
  },
  {
   "cell_type": "markdown",
   "id": "0f24ea0c-ec48-4b07-83f0-30322817d3ca",
   "metadata": {},
   "source": [
    "## Premier script"
   ]
  },
  {
   "cell_type": "markdown",
   "id": "3057449f-78c1-42ad-8b83-bae2a9222eae",
   "metadata": {},
   "source": [
    "Ce script demande une phrase, compte le nombre de mots de plus de 4 lettres, et donne la proportionK"
   ]
  },
  {
   "cell_type": "code",
   "execution_count": null,
   "id": "8055df68-3389-48f7-ab25-5321b6c2ac4a",
   "metadata": {},
   "outputs": [],
   "source": [
    "sortie_fichier = False # on crée une variable booléenne\n",
    "nombre_min_lettres = 4 # on crée une variable entier\n",
    "phrase = input(\"Écrivez une phrase: \")\n",
    "liste_mots = phrase.split(\" \")\n",
    "nombre_mots = len(liste_mots)\n",
    "if len(phrase) == 0:\n",
    "    print(\"Vous n'avez rien écrit\")\n",
    "else:\n",
    "    compteur = 0\n",
    "    for i in liste_mots:\n",
    "        if len(i) >= nombre_min_lettres:\n",
    "            compteur += 1\n",
    "    proportion = round(100 * compteur / nombre_mots, 2)\n",
    "    informations = {\n",
    "        \"Total\": compteur,\n",
    "        \"Proportion\": proportion,\n",
    "        \"Phrase\": phrase,\n",
    "        \"Seuil\": nombre_min_lettres,\n",
    "    }\n",
    "    sortie = (\n",
    "        f\"Proportion de mots avec {nombre_min_lettres} lettres ou plus : {proportion}\"\n",
    "    )\n",
    "    print(sortie)\n",
    "    if sortie_fichier:\n",
    "        with open(\"resultat.txt\", \"w\") as f:\n",
    "            f.write(str(informations))\n",
    "            "
   ]
  },
  {
   "cell_type": "markdown",
   "id": "00e591d1-541a-42c3-bf48-7b4d7ed910cc",
   "metadata": {},
   "source": [
    "## Première ligne"
   ]
  },
  {
   "cell_type": "code",
   "execution_count": 2,
   "id": "8cb862b4-25f0-4803-a3d1-0a7f9d3e6bb2",
   "metadata": {},
   "outputs": [],
   "source": [
    "sortie_fichier = False"
   ]
  },
  {
   "cell_type": "code",
   "execution_count": 3,
   "id": "758c77b8-66e1-4ef1-990c-056b54b9cc75",
   "metadata": {},
   "outputs": [
    {
     "data": {
      "text/plain": [
       "False"
      ]
     },
     "execution_count": 3,
     "metadata": {},
     "output_type": "execute_result"
    }
   ],
   "source": [
    "sortie_fichier"
   ]
  },
  {
   "cell_type": "code",
   "execution_count": 4,
   "id": "2c18182c-ba86-47b4-aeec-e5d1dd52549d",
   "metadata": {},
   "outputs": [],
   "source": [
    "file_output = False"
   ]
  },
  {
   "cell_type": "code",
   "execution_count": 5,
   "id": "bca3bc28-d1d9-4050-ae36-e67751b10804",
   "metadata": {},
   "outputs": [
    {
     "data": {
      "text/plain": [
       "False"
      ]
     },
     "execution_count": 5,
     "metadata": {},
     "output_type": "execute_result"
    }
   ],
   "source": [
    "sortie_fichier"
   ]
  },
  {
   "cell_type": "code",
   "execution_count": 6,
   "id": "1a948ed1-25c2-4c95-9b8a-fc754ba67765",
   "metadata": {},
   "outputs": [
    {
     "ename": "NameError",
     "evalue": "name 'sortiefichier' is not defined",
     "output_type": "error",
     "traceback": [
      "\u001b[0;31m---------------------------------------------------------------------------\u001b[0m",
      "\u001b[0;31mNameError\u001b[0m                                 Traceback (most recent call last)",
      "Cell \u001b[0;32mIn[6], line 1\u001b[0m\n\u001b[0;32m----> 1\u001b[0m sortiefichier\n",
      "\u001b[0;31mNameError\u001b[0m: name 'sortiefichier' is not defined"
     ]
    }
   ],
   "source": [
    "sortiefichier"
   ]
  },
  {
   "cell_type": "code",
   "execution_count": 7,
   "id": "cfa3c7d2-b78c-493d-a614-98be3e8b4ec2",
   "metadata": {},
   "outputs": [
    {
     "ename": "SyntaxError",
     "evalue": "invalid syntax (2810905263.py, line 1)",
     "output_type": "error",
     "traceback": [
      "\u001b[0;36m  Cell \u001b[0;32mIn[7], line 1\u001b[0;36m\u001b[0m\n\u001b[0;31m    sortie fichier = False\u001b[0m\n\u001b[0m           ^\u001b[0m\n\u001b[0;31mSyntaxError\u001b[0m\u001b[0;31m:\u001b[0m invalid syntax\n"
     ]
    }
   ],
   "source": [
    "sortie fichier = False"
   ]
  },
  {
   "cell_type": "code",
   "execution_count": 5,
   "id": "54d8e13f-8295-4d5e-b6ae-4695930a4d3a",
   "metadata": {},
   "outputs": [],
   "source": [
    "sortie_fichier = True"
   ]
  },
  {
   "cell_type": "code",
   "execution_count": 6,
   "id": "20c29f96-d084-46ec-a7c4-53e74cb30348",
   "metadata": {},
   "outputs": [
    {
     "data": {
      "text/plain": [
       "True"
      ]
     },
     "execution_count": 6,
     "metadata": {},
     "output_type": "execute_result"
    }
   ],
   "source": [
    "sortie_fichier"
   ]
  },
  {
   "cell_type": "markdown",
   "id": "398202f1-cb27-43c7-a54d-cd9ee324780f",
   "metadata": {},
   "source": [
    "Fonction `type` donne le type d'un objet"
   ]
  },
  {
   "cell_type": "code",
   "execution_count": 7,
   "id": "30e62949-ed6e-47db-a6aa-5c273e98aa3a",
   "metadata": {},
   "outputs": [
    {
     "data": {
      "text/plain": [
       "bool"
      ]
     },
     "execution_count": 7,
     "metadata": {},
     "output_type": "execute_result"
    }
   ],
   "source": [
    "type(sortie_fichier)"
   ]
  },
  {
   "cell_type": "code",
   "execution_count": 8,
   "id": "14c26715-37d2-42b4-980d-60d05dd5678f",
   "metadata": {},
   "outputs": [
    {
     "data": {
      "text/plain": [
       "int"
      ]
     },
     "execution_count": 8,
     "metadata": {},
     "output_type": "execute_result"
    }
   ],
   "source": [
    "type(10)"
   ]
  },
  {
   "cell_type": "markdown",
   "id": "cfaf724e-d58e-4d11-b29e-290e67aa3984",
   "metadata": {},
   "source": [
    "Python tente de faire du transtypage quand il peut"
   ]
  },
  {
   "cell_type": "code",
   "execution_count": 9,
   "id": "50a355f0-6bf3-483a-9729-6a7528bc19b1",
   "metadata": {},
   "outputs": [
    {
     "data": {
      "text/plain": [
       "11"
      ]
     },
     "execution_count": 9,
     "metadata": {},
     "output_type": "execute_result"
    }
   ],
   "source": [
    "True + 10"
   ]
  },
  {
   "cell_type": "markdown",
   "id": "82851e5c-24d0-48e3-96fc-5a2c619a630a",
   "metadata": {},
   "source": [
    "## Deuxième ligne"
   ]
  },
  {
   "cell_type": "code",
   "execution_count": 10,
   "id": "c9d335b0-ed2d-40d5-9bfc-a05930a41e7b",
   "metadata": {},
   "outputs": [],
   "source": [
    "nombre_min_lettres = 4"
   ]
  },
  {
   "cell_type": "code",
   "execution_count": 12,
   "id": "10b3f667-9ff9-4ff1-a9b2-6728d1c3c8bc",
   "metadata": {},
   "outputs": [
    {
     "data": {
      "text/plain": [
       "24"
      ]
     },
     "execution_count": 12,
     "metadata": {},
     "output_type": "execute_result"
    }
   ],
   "source": [
    "nombre_min_lettres + 20"
   ]
  },
  {
   "cell_type": "code",
   "execution_count": 13,
   "id": "f8793760-2b4b-4ff2-ab88-157bb7feb218",
   "metadata": {},
   "outputs": [
    {
     "data": {
      "text/plain": [
       "int"
      ]
     },
     "execution_count": 13,
     "metadata": {},
     "output_type": "execute_result"
    }
   ],
   "source": [
    "type(nombre_min_lettres)"
   ]
  },
  {
   "cell_type": "code",
   "execution_count": 14,
   "id": "6e58eba1-85a8-4dff-bd1e-ed9421f3d371",
   "metadata": {},
   "outputs": [
    {
     "data": {
      "text/plain": [
       "24.4"
      ]
     },
     "execution_count": 14,
     "metadata": {},
     "output_type": "execute_result"
    }
   ],
   "source": [
    "nombre_min_lettres + 20.4"
   ]
  },
  {
   "cell_type": "markdown",
   "id": "99b31a92-43bc-4c71-9a0a-381912ebf9d5",
   "metadata": {},
   "source": [
    "## Troisième ligne"
   ]
  },
  {
   "cell_type": "code",
   "execution_count": 22,
   "id": "f211fd11-256a-4ed8-bc06-659028eccd78",
   "metadata": {},
   "outputs": [
    {
     "name": "stdin",
     "output_type": "stream",
     "text": [
      "Écrivez une phrase:  Ceci est une phrase\n"
     ]
    }
   ],
   "source": [
    "phrase = input(\"Écrivez une phrase: \")"
   ]
  },
  {
   "cell_type": "markdown",
   "id": "3004eb2b-08fc-4e1c-8a00-cf908cf09282",
   "metadata": {},
   "source": [
    "`input` est une fonction python \"déjà là\" qu'on peut utiliser et qui demande une entrée clavier"
   ]
  },
  {
   "cell_type": "code",
   "execution_count": 19,
   "id": "ba9a3d91-122a-4a47-9760-34f48c399033",
   "metadata": {},
   "outputs": [
    {
     "data": {
      "text/plain": [
       "\u001b[0;31mSignature:\u001b[0m \u001b[0minput\u001b[0m\u001b[0;34m(\u001b[0m\u001b[0mprompt\u001b[0m\u001b[0;34m=\u001b[0m\u001b[0;34m''\u001b[0m\u001b[0;34m)\u001b[0m\u001b[0;34m\u001b[0m\u001b[0;34m\u001b[0m\u001b[0m\n",
       "\u001b[0;31mDocstring:\u001b[0m\n",
       "Forward raw_input to frontends\n",
       "\n",
       "Raises\n",
       "------\n",
       "StdinNotImplementedError if active frontend doesn't support stdin.\n",
       "\u001b[0;31mFile:\u001b[0m      /opt/anaconda3/lib/python3.11/site-packages/ipykernel/kernelbase.py\n",
       "\u001b[0;31mType:\u001b[0m      method"
      ]
     },
     "metadata": {},
     "output_type": "display_data"
    }
   ],
   "source": [
    "input?"
   ]
  },
  {
   "cell_type": "code",
   "execution_count": 20,
   "id": "f4f5f6ca-cdd1-4d01-8d2d-4c6018552185",
   "metadata": {},
   "outputs": [
    {
     "name": "stdin",
     "output_type": "stream",
     "text": [
      " dqqdqs\n"
     ]
    },
    {
     "data": {
      "text/plain": [
       "'dqqdqs'"
      ]
     },
     "execution_count": 20,
     "metadata": {},
     "output_type": "execute_result"
    }
   ],
   "source": [
    "input()"
   ]
  },
  {
   "cell_type": "code",
   "execution_count": 15,
   "id": "7abb23f5-153d-4641-9827-88f3d0103428",
   "metadata": {},
   "outputs": [
    {
     "name": "stdin",
     "output_type": "stream",
     "text": [
      "Écrivez une phrase:  Coucou\n"
     ]
    },
    {
     "data": {
      "text/plain": [
       "'Coucou'"
      ]
     },
     "execution_count": 15,
     "metadata": {},
     "output_type": "execute_result"
    }
   ],
   "source": [
    "input(\"Écrivez une phrase: \")"
   ]
  },
  {
   "cell_type": "code",
   "execution_count": 23,
   "id": "250520be-ddf6-49f8-8008-2d053a26b5fd",
   "metadata": {},
   "outputs": [
    {
     "data": {
      "text/plain": [
       "str"
      ]
     },
     "execution_count": 23,
     "metadata": {},
     "output_type": "execute_result"
    }
   ],
   "source": [
    "type(phrase)"
   ]
  },
  {
   "cell_type": "code",
   "execution_count": 24,
   "id": "a31813ad-afd0-4d52-89c3-6fa66028dd64",
   "metadata": {},
   "outputs": [
    {
     "data": {
      "text/plain": [
       "'Ceci est une phrase'"
      ]
     },
     "execution_count": 24,
     "metadata": {},
     "output_type": "execute_result"
    }
   ],
   "source": [
    "phrase"
   ]
  },
  {
   "cell_type": "code",
   "execution_count": 26,
   "id": "4d831705-ef48-428c-96f7-9b9f0dc2d28d",
   "metadata": {},
   "outputs": [
    {
     "ename": "TypeError",
     "evalue": "unsupported operand type(s) for +: 'int' and 'str'",
     "output_type": "error",
     "traceback": [
      "\u001b[0;31m---------------------------------------------------------------------------\u001b[0m",
      "\u001b[0;31mTypeError\u001b[0m                                 Traceback (most recent call last)",
      "Cell \u001b[0;32mIn[26], line 1\u001b[0m\n\u001b[0;32m----> 1\u001b[0m \u001b[38;5;241m1\u001b[39m \u001b[38;5;241m+\u001b[39m phrase\n",
      "\u001b[0;31mTypeError\u001b[0m: unsupported operand type(s) for +: 'int' and 'str'"
     ]
    }
   ],
   "source": [
    "1 + phrase"
   ]
  },
  {
   "cell_type": "markdown",
   "id": "771ad657-8a40-467d-833d-dc95e0389f7e",
   "metadata": {},
   "source": [
    "Le texte comme donnée est délimité par des guillemets"
   ]
  },
  {
   "cell_type": "code",
   "execution_count": 27,
   "id": "b3fa824b-7954-440f-ac64-775966a06d50",
   "metadata": {},
   "outputs": [
    {
     "data": {
      "text/plain": [
       "'Ceci est un texte'"
      ]
     },
     "execution_count": 27,
     "metadata": {},
     "output_type": "execute_result"
    }
   ],
   "source": [
    "\"Ceci est un texte\"\n",
    "'Ceci est un texte'\n",
    "\"\"\"Ceci est un texte\"\"\""
   ]
  },
  {
   "cell_type": "code",
   "execution_count": 28,
   "id": "c9a03716-7423-4f58-8af5-d0a68409fd67",
   "metadata": {},
   "outputs": [
    {
     "data": {
      "text/plain": [
       "'Ceci est un texte'"
      ]
     },
     "execution_count": 28,
     "metadata": {},
     "output_type": "execute_result"
    }
   ],
   "source": [
    "\"Ceci\" + \" est un texte\""
   ]
  },
  {
   "cell_type": "code",
   "execution_count": 29,
   "id": "6812ad99-84e8-428e-9e94-94acdfd62d41",
   "metadata": {},
   "outputs": [
    {
     "ename": "TypeError",
     "evalue": "unsupported operand type(s) for -: 'str' and 'str'",
     "output_type": "error",
     "traceback": [
      "\u001b[0;31m---------------------------------------------------------------------------\u001b[0m",
      "\u001b[0;31mTypeError\u001b[0m                                 Traceback (most recent call last)",
      "Cell \u001b[0;32mIn[29], line 1\u001b[0m\n\u001b[0;32m----> 1\u001b[0m \u001b[38;5;124m\"\u001b[39m\u001b[38;5;124mCeci\u001b[39m\u001b[38;5;124m\"\u001b[39m \u001b[38;5;241m-\u001b[39m \u001b[38;5;124m\"\u001b[39m\u001b[38;5;124m est un texte\u001b[39m\u001b[38;5;124m\"\u001b[39m\n",
      "\u001b[0;31mTypeError\u001b[0m: unsupported operand type(s) for -: 'str' and 'str'"
     ]
    }
   ],
   "source": [
    "\"Ceci\" - \" est un texte\""
   ]
  },
  {
   "cell_type": "code",
   "execution_count": 32,
   "id": "fbf32cef-e894-4d53-9390-1221cf116444",
   "metadata": {},
   "outputs": [
    {
     "data": {
      "text/plain": [
       "'e'"
      ]
     },
     "execution_count": 32,
     "metadata": {},
     "output_type": "execute_result"
    }
   ],
   "source": [
    "phrase[1]"
   ]
  },
  {
   "cell_type": "markdown",
   "id": "24b0cadb-b35c-45cb-b296-d0e88762dc57",
   "metadata": {},
   "source": [
    "## Quatrième ligne"
   ]
  },
  {
   "cell_type": "markdown",
   "id": "8475677d-3318-4e7c-ae12-597f9d83d5dc",
   "metadata": {},
   "source": [
    "Le . est un opérateur d'introspection"
   ]
  },
  {
   "cell_type": "code",
   "execution_count": 42,
   "id": "1c6c9088-8183-4e0b-8d6b-10f8ab3e444d",
   "metadata": {},
   "outputs": [],
   "source": [
    "#dir(str)"
   ]
  },
  {
   "cell_type": "code",
   "execution_count": 50,
   "id": "ce1e4bea-ef1c-4998-b74f-0970482f6bfa",
   "metadata": {},
   "outputs": [],
   "source": [
    "liste_mots = phrase.split(\" \")"
   ]
  },
  {
   "cell_type": "code",
   "execution_count": 34,
   "id": "daf3341c-b63a-49b3-ad9f-a9a3e94a474c",
   "metadata": {},
   "outputs": [
    {
     "data": {
      "text/plain": [
       "\u001b[0;31mSignature:\u001b[0m \u001b[0mphrase\u001b[0m\u001b[0;34m.\u001b[0m\u001b[0msplit\u001b[0m\u001b[0;34m(\u001b[0m\u001b[0msep\u001b[0m\u001b[0;34m=\u001b[0m\u001b[0;32mNone\u001b[0m\u001b[0;34m,\u001b[0m \u001b[0mmaxsplit\u001b[0m\u001b[0;34m=\u001b[0m\u001b[0;34m-\u001b[0m\u001b[0;36m1\u001b[0m\u001b[0;34m)\u001b[0m\u001b[0;34m\u001b[0m\u001b[0;34m\u001b[0m\u001b[0m\n",
       "\u001b[0;31mDocstring:\u001b[0m\n",
       "Return a list of the substrings in the string, using sep as the separator string.\n",
       "\n",
       "  sep\n",
       "    The separator used to split the string.\n",
       "\n",
       "    When set to None (the default value), will split on any whitespace\n",
       "    character (including \\n \\r \\t \\f and spaces) and will discard\n",
       "    empty strings from the result.\n",
       "  maxsplit\n",
       "    Maximum number of splits (starting from the left).\n",
       "    -1 (the default value) means no limit.\n",
       "\n",
       "Note, str.split() is mainly useful for data that has been intentionally\n",
       "delimited.  With natural text that includes punctuation, consider using\n",
       "the regular expression module.\n",
       "\u001b[0;31mType:\u001b[0m      builtin_function_or_method"
      ]
     },
     "metadata": {},
     "output_type": "display_data"
    }
   ],
   "source": [
    "phrase.split?"
   ]
  },
  {
   "cell_type": "code",
   "execution_count": 35,
   "id": "4f2bf7e6-df26-43dd-a4ce-da8ef69f8657",
   "metadata": {},
   "outputs": [
    {
     "data": {
      "text/plain": [
       "['Ceci', 'est', 'une', 'phrase']"
      ]
     },
     "execution_count": 35,
     "metadata": {},
     "output_type": "execute_result"
    }
   ],
   "source": [
    "phrase.split(\" \")"
   ]
  },
  {
   "cell_type": "code",
   "execution_count": 51,
   "id": "3d74f5f1-9cf3-4d88-9056-d5bc9e8aae17",
   "metadata": {},
   "outputs": [
    {
     "data": {
      "text/plain": [
       "['Ceci', 'est', 'une', 'phrase']"
      ]
     },
     "execution_count": 51,
     "metadata": {},
     "output_type": "execute_result"
    }
   ],
   "source": [
    "liste_mots"
   ]
  },
  {
   "cell_type": "code",
   "execution_count": 52,
   "id": "12e84fd3-1f4a-48f3-8a11-b6c3549df7ae",
   "metadata": {},
   "outputs": [
    {
     "data": {
      "text/plain": [
       "list"
      ]
     },
     "execution_count": 52,
     "metadata": {},
     "output_type": "execute_result"
    }
   ],
   "source": [
    "type(liste_mots)"
   ]
  },
  {
   "cell_type": "code",
   "execution_count": 53,
   "id": "e2d3f032-3a35-4156-a5be-c338a897ea55",
   "metadata": {},
   "outputs": [],
   "source": [
    "liste_mots.append(\"coucou\")"
   ]
  },
  {
   "cell_type": "code",
   "execution_count": 55,
   "id": "50051be6-baa6-417c-aa87-35b30d889dab",
   "metadata": {},
   "outputs": [
    {
     "data": {
      "text/plain": [
       "5"
      ]
     },
     "execution_count": 55,
     "metadata": {},
     "output_type": "execute_result"
    }
   ],
   "source": [
    "len(liste_mots)"
   ]
  },
  {
   "cell_type": "markdown",
   "id": "1aebb7c4-62d0-40f0-bd5e-7128d6d80ad9",
   "metadata": {},
   "source": [
    "Fonction `len` pour la longueur des ensembles"
   ]
  },
  {
   "cell_type": "code",
   "execution_count": 58,
   "id": "90c94b21-ba64-45d0-970f-61fba98030d6",
   "metadata": {},
   "outputs": [
    {
     "data": {
      "text/plain": [
       "['une', 'phrase']"
      ]
     },
     "execution_count": 58,
     "metadata": {},
     "output_type": "execute_result"
    }
   ],
   "source": [
    "liste_mots[2:4]"
   ]
  },
  {
   "cell_type": "markdown",
   "id": "1c6faeed-17e7-4e63-aef0-6325031a68c3",
   "metadata": {},
   "source": [
    "Les énumérations en python commencent à 0 (contrairement à R)"
   ]
  },
  {
   "cell_type": "code",
   "execution_count": 60,
   "id": "34e1612b-46e9-4fdf-8c59-ede297d8fe04",
   "metadata": {},
   "outputs": [
    {
     "data": {
      "text/plain": [
       "'coucou'"
      ]
     },
     "execution_count": 60,
     "metadata": {},
     "output_type": "execute_result"
    }
   ],
   "source": [
    "liste_mots[-1]"
   ]
  },
  {
   "cell_type": "markdown",
   "id": "80dbb795-f8f4-4a22-88de-95f03b308591",
   "metadata": {},
   "source": [
    "## Parenthèses"
   ]
  },
  {
   "cell_type": "markdown",
   "id": "7ba6a244-b170-4675-8c54-0f2cfd336a7a",
   "metadata": {},
   "source": [
    "Il y a des fonctions de transtypage : str(), int(), float()"
   ]
  },
  {
   "cell_type": "code",
   "execution_count": 43,
   "id": "76a90f56-5016-4ad4-a0ee-dfa0b44f3601",
   "metadata": {},
   "outputs": [
    {
     "data": {
      "text/plain": [
       "'10'"
      ]
     },
     "execution_count": 43,
     "metadata": {},
     "output_type": "execute_result"
    }
   ],
   "source": [
    "str(10)"
   ]
  },
  {
   "cell_type": "code",
   "execution_count": 46,
   "id": "3eecba74-f9c5-4719-a871-195224e39b55",
   "metadata": {},
   "outputs": [
    {
     "data": {
      "text/plain": [
       "10"
      ]
     },
     "execution_count": 46,
     "metadata": {},
     "output_type": "execute_result"
    }
   ],
   "source": [
    "int(\"10\")"
   ]
  }
 ],
 "metadata": {
  "kernelspec": {
   "display_name": "Python 3 (ipykernel)",
   "language": "python",
   "name": "python3"
  },
  "language_info": {
   "codemirror_mode": {
    "name": "ipython",
    "version": 3
   },
   "file_extension": ".py",
   "mimetype": "text/x-python",
   "name": "python",
   "nbconvert_exporter": "python",
   "pygments_lexer": "ipython3",
   "version": "3.11.7"
  }
 },
 "nbformat": 4,
 "nbformat_minor": 5
}
