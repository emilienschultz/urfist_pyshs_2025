{
 "cells": [
  {
   "cell_type": "markdown",
   "id": "aba8bbce-d0f4-4811-bc13-aaad8aeb0698",
   "metadata": {},
   "source": [
    "# Premier notebook"
   ]
  },
  {
   "cell_type": "markdown",
   "id": "3776571a-4bcd-40b4-9040-25c5b6b1ff65",
   "metadata": {},
   "source": [
    "## Dossier courant\n",
    "\n",
    "Trouver le dossier courant : commande `pwd`"
   ]
  },
  {
   "cell_type": "code",
   "execution_count": 1,
   "id": "baaf8906-0f8f-406e-bd07-666c5f0c796d",
   "metadata": {},
   "outputs": [
    {
     "data": {
      "text/plain": [
       "'/Users/emilien/Dropbox/Python pour les SHS/Formations/2025-01-27 URFIST Lyon/urfist_pyshs_2025/scripts'"
      ]
     },
     "execution_count": 1,
     "metadata": {},
     "output_type": "execute_result"
    }
   ],
   "source": [
    "pwd"
   ]
  },
  {
   "cell_type": "markdown",
   "id": "b84c51ce-8915-48b1-a69e-baed109008bc",
   "metadata": {},
   "source": [
    "## Raccourcis\n",
    "\n",
    "- b : créer une nouvelle cellule\n",
    "- dd : supprimer une cellule\n",
    "- maj + entrer : exécuter\n",
    "- flèches pour circuler\n",
    "- m pour transformer une cellule en markdown"
   ]
  },
  {
   "cell_type": "markdown",
   "id": "0f24ea0c-ec48-4b07-83f0-30322817d3ca",
   "metadata": {},
   "source": [
    "## Premier script"
   ]
  },
  {
   "cell_type": "markdown",
   "id": "3057449f-78c1-42ad-8b83-bae2a9222eae",
   "metadata": {},
   "source": [
    "Ce script demande une phrase, compte le nombre de mots de plus de 4 lettres, et donne la proportionK"
   ]
  },
  {
   "cell_type": "code",
   "execution_count": 116,
   "id": "8055df68-3389-48f7-ab25-5321b6c2ac4a",
   "metadata": {},
   "outputs": [
    {
     "name": "stdin",
     "output_type": "stream",
     "text": [
      "Écrivez une phrase:  Je rentre ma phrase\n"
     ]
    },
    {
     "name": "stdout",
     "output_type": "stream",
     "text": [
      "Proportion de mots avec 4 lettres ou plus : 50.0\n"
     ]
    }
   ],
   "source": [
    "# ENTREES/PARAMETRES\n",
    "\n",
    "sortie_fichier = True # on crée une variable booléenne\n",
    "nombre_min_lettres = 4 # on crée une variable entier\n",
    "phrase = input(\"Écrivez une phrase: \") # récupère une phrase de l'utilisateur\n",
    "liste_mots = phrase.split(\" \") # on coupe la phrase au niveau des espaces\n",
    "nombre_mots = len(liste_mots) # on compte le nombre de mots\n",
    "\n",
    "# TRAITEMENT\n",
    "\n",
    "# on teste s'il y a une phrase\n",
    "if len(phrase) == 0: # test si l'utilisateur a rentré quelquechose\n",
    "    print(\"Vous n'avez rien écrit\")\n",
    "else:\n",
    "    # il y a une phrase\n",
    "    compteur = 0 # créer une nouvelle variable\n",
    "    for mot in liste_mots: # pour chaque mot de la liste\n",
    "        # si la longueur du mot est plus grand que \n",
    "        if len(mot) >= nombre_min_lettres: \n",
    "            # augmenter le compteur\n",
    "            compteur = compteur + 1\n",
    "    proportion = round(100 * compteur / nombre_mots, 2)\n",
    "\n",
    "# SORTIES\n",
    "    # je mets en forme mes données pour pouvoir (si je veux) les sauvegarder\n",
    "    informations = {\n",
    "        \"Total\": compteur,\n",
    "        \"Proportion\": proportion,\n",
    "        \"Phrase\": phrase,\n",
    "        \"Seuil\": nombre_min_lettres,\n",
    "    }\n",
    "\n",
    "    # Affichage de sortie\n",
    "    sortie = f\"Proportion de mots avec {nombre_min_lettres} lettres ou plus : {proportion}\"\n",
    "    print(sortie)\n",
    "\n",
    "    # Ecrire potentiellement dans un fichier\n",
    "    if sortie_fichier:\n",
    "        with open(\"resultat.txt\", \"w\") as canal:\n",
    "            canal.write(str(informations))\n",
    "            "
   ]
  },
  {
   "cell_type": "markdown",
   "id": "00e591d1-541a-42c3-bf48-7b4d7ed910cc",
   "metadata": {},
   "source": [
    "## Première ligne"
   ]
  },
  {
   "cell_type": "code",
   "execution_count": 2,
   "id": "8cb862b4-25f0-4803-a3d1-0a7f9d3e6bb2",
   "metadata": {},
   "outputs": [],
   "source": [
    "sortie_fichier = False"
   ]
  },
  {
   "cell_type": "code",
   "execution_count": 3,
   "id": "758c77b8-66e1-4ef1-990c-056b54b9cc75",
   "metadata": {},
   "outputs": [
    {
     "data": {
      "text/plain": [
       "False"
      ]
     },
     "execution_count": 3,
     "metadata": {},
     "output_type": "execute_result"
    }
   ],
   "source": [
    "sortie_fichier"
   ]
  },
  {
   "cell_type": "code",
   "execution_count": 4,
   "id": "2c18182c-ba86-47b4-aeec-e5d1dd52549d",
   "metadata": {},
   "outputs": [],
   "source": [
    "file_output = False"
   ]
  },
  {
   "cell_type": "code",
   "execution_count": 5,
   "id": "bca3bc28-d1d9-4050-ae36-e67751b10804",
   "metadata": {},
   "outputs": [
    {
     "data": {
      "text/plain": [
       "False"
      ]
     },
     "execution_count": 5,
     "metadata": {},
     "output_type": "execute_result"
    }
   ],
   "source": [
    "sortie_fichier"
   ]
  },
  {
   "cell_type": "code",
   "execution_count": 6,
   "id": "1a948ed1-25c2-4c95-9b8a-fc754ba67765",
   "metadata": {},
   "outputs": [
    {
     "ename": "NameError",
     "evalue": "name 'sortiefichier' is not defined",
     "output_type": "error",
     "traceback": [
      "\u001b[0;31m---------------------------------------------------------------------------\u001b[0m",
      "\u001b[0;31mNameError\u001b[0m                                 Traceback (most recent call last)",
      "Cell \u001b[0;32mIn[6], line 1\u001b[0m\n\u001b[0;32m----> 1\u001b[0m sortiefichier\n",
      "\u001b[0;31mNameError\u001b[0m: name 'sortiefichier' is not defined"
     ]
    }
   ],
   "source": [
    "sortiefichier"
   ]
  },
  {
   "cell_type": "code",
   "execution_count": 7,
   "id": "cfa3c7d2-b78c-493d-a614-98be3e8b4ec2",
   "metadata": {},
   "outputs": [
    {
     "ename": "SyntaxError",
     "evalue": "invalid syntax (2810905263.py, line 1)",
     "output_type": "error",
     "traceback": [
      "\u001b[0;36m  Cell \u001b[0;32mIn[7], line 1\u001b[0;36m\u001b[0m\n\u001b[0;31m    sortie fichier = False\u001b[0m\n\u001b[0m           ^\u001b[0m\n\u001b[0;31mSyntaxError\u001b[0m\u001b[0;31m:\u001b[0m invalid syntax\n"
     ]
    }
   ],
   "source": [
    "sortie fichier = False"
   ]
  },
  {
   "cell_type": "code",
   "execution_count": 5,
   "id": "54d8e13f-8295-4d5e-b6ae-4695930a4d3a",
   "metadata": {},
   "outputs": [],
   "source": [
    "sortie_fichier = True"
   ]
  },
  {
   "cell_type": "code",
   "execution_count": 6,
   "id": "20c29f96-d084-46ec-a7c4-53e74cb30348",
   "metadata": {},
   "outputs": [
    {
     "data": {
      "text/plain": [
       "True"
      ]
     },
     "execution_count": 6,
     "metadata": {},
     "output_type": "execute_result"
    }
   ],
   "source": [
    "sortie_fichier"
   ]
  },
  {
   "cell_type": "markdown",
   "id": "398202f1-cb27-43c7-a54d-cd9ee324780f",
   "metadata": {},
   "source": [
    "Fonction `type` donne le type d'un objet"
   ]
  },
  {
   "cell_type": "code",
   "execution_count": 7,
   "id": "30e62949-ed6e-47db-a6aa-5c273e98aa3a",
   "metadata": {},
   "outputs": [
    {
     "data": {
      "text/plain": [
       "bool"
      ]
     },
     "execution_count": 7,
     "metadata": {},
     "output_type": "execute_result"
    }
   ],
   "source": [
    "type(sortie_fichier)"
   ]
  },
  {
   "cell_type": "code",
   "execution_count": 8,
   "id": "14c26715-37d2-42b4-980d-60d05dd5678f",
   "metadata": {},
   "outputs": [
    {
     "data": {
      "text/plain": [
       "int"
      ]
     },
     "execution_count": 8,
     "metadata": {},
     "output_type": "execute_result"
    }
   ],
   "source": [
    "type(10)"
   ]
  },
  {
   "cell_type": "markdown",
   "id": "cfaf724e-d58e-4d11-b29e-290e67aa3984",
   "metadata": {},
   "source": [
    "Python tente de faire du transtypage quand il peut"
   ]
  },
  {
   "cell_type": "code",
   "execution_count": 9,
   "id": "50a355f0-6bf3-483a-9729-6a7528bc19b1",
   "metadata": {},
   "outputs": [
    {
     "data": {
      "text/plain": [
       "11"
      ]
     },
     "execution_count": 9,
     "metadata": {},
     "output_type": "execute_result"
    }
   ],
   "source": [
    "True + 10"
   ]
  },
  {
   "cell_type": "markdown",
   "id": "82851e5c-24d0-48e3-96fc-5a2c619a630a",
   "metadata": {},
   "source": [
    "## Deuxième ligne"
   ]
  },
  {
   "cell_type": "code",
   "execution_count": 10,
   "id": "c9d335b0-ed2d-40d5-9bfc-a05930a41e7b",
   "metadata": {},
   "outputs": [],
   "source": [
    "nombre_min_lettres = 4"
   ]
  },
  {
   "cell_type": "code",
   "execution_count": 12,
   "id": "10b3f667-9ff9-4ff1-a9b2-6728d1c3c8bc",
   "metadata": {},
   "outputs": [
    {
     "data": {
      "text/plain": [
       "24"
      ]
     },
     "execution_count": 12,
     "metadata": {},
     "output_type": "execute_result"
    }
   ],
   "source": [
    "nombre_min_lettres + 20"
   ]
  },
  {
   "cell_type": "code",
   "execution_count": 13,
   "id": "f8793760-2b4b-4ff2-ab88-157bb7feb218",
   "metadata": {},
   "outputs": [
    {
     "data": {
      "text/plain": [
       "int"
      ]
     },
     "execution_count": 13,
     "metadata": {},
     "output_type": "execute_result"
    }
   ],
   "source": [
    "type(nombre_min_lettres)"
   ]
  },
  {
   "cell_type": "code",
   "execution_count": 14,
   "id": "6e58eba1-85a8-4dff-bd1e-ed9421f3d371",
   "metadata": {},
   "outputs": [
    {
     "data": {
      "text/plain": [
       "24.4"
      ]
     },
     "execution_count": 14,
     "metadata": {},
     "output_type": "execute_result"
    }
   ],
   "source": [
    "nombre_min_lettres + 20.4"
   ]
  },
  {
   "cell_type": "markdown",
   "id": "99b31a92-43bc-4c71-9a0a-381912ebf9d5",
   "metadata": {},
   "source": [
    "## Troisième ligne"
   ]
  },
  {
   "cell_type": "code",
   "execution_count": 22,
   "id": "f211fd11-256a-4ed8-bc06-659028eccd78",
   "metadata": {},
   "outputs": [
    {
     "name": "stdin",
     "output_type": "stream",
     "text": [
      "Écrivez une phrase:  Ceci est une phrase\n"
     ]
    }
   ],
   "source": [
    "phrase = input(\"Écrivez une phrase: \")"
   ]
  },
  {
   "cell_type": "markdown",
   "id": "3004eb2b-08fc-4e1c-8a00-cf908cf09282",
   "metadata": {},
   "source": [
    "`input` est une fonction python \"déjà là\" qu'on peut utiliser et qui demande une entrée clavier"
   ]
  },
  {
   "cell_type": "code",
   "execution_count": 19,
   "id": "ba9a3d91-122a-4a47-9760-34f48c399033",
   "metadata": {},
   "outputs": [
    {
     "data": {
      "text/plain": [
       "\u001b[0;31mSignature:\u001b[0m \u001b[0minput\u001b[0m\u001b[0;34m(\u001b[0m\u001b[0mprompt\u001b[0m\u001b[0;34m=\u001b[0m\u001b[0;34m''\u001b[0m\u001b[0;34m)\u001b[0m\u001b[0;34m\u001b[0m\u001b[0;34m\u001b[0m\u001b[0m\n",
       "\u001b[0;31mDocstring:\u001b[0m\n",
       "Forward raw_input to frontends\n",
       "\n",
       "Raises\n",
       "------\n",
       "StdinNotImplementedError if active frontend doesn't support stdin.\n",
       "\u001b[0;31mFile:\u001b[0m      /opt/anaconda3/lib/python3.11/site-packages/ipykernel/kernelbase.py\n",
       "\u001b[0;31mType:\u001b[0m      method"
      ]
     },
     "metadata": {},
     "output_type": "display_data"
    }
   ],
   "source": [
    "input?"
   ]
  },
  {
   "cell_type": "code",
   "execution_count": 20,
   "id": "f4f5f6ca-cdd1-4d01-8d2d-4c6018552185",
   "metadata": {},
   "outputs": [
    {
     "name": "stdin",
     "output_type": "stream",
     "text": [
      " dqqdqs\n"
     ]
    },
    {
     "data": {
      "text/plain": [
       "'dqqdqs'"
      ]
     },
     "execution_count": 20,
     "metadata": {},
     "output_type": "execute_result"
    }
   ],
   "source": [
    "input()"
   ]
  },
  {
   "cell_type": "code",
   "execution_count": 15,
   "id": "7abb23f5-153d-4641-9827-88f3d0103428",
   "metadata": {},
   "outputs": [
    {
     "name": "stdin",
     "output_type": "stream",
     "text": [
      "Écrivez une phrase:  Coucou\n"
     ]
    },
    {
     "data": {
      "text/plain": [
       "'Coucou'"
      ]
     },
     "execution_count": 15,
     "metadata": {},
     "output_type": "execute_result"
    }
   ],
   "source": [
    "input(\"Écrivez une phrase: \")"
   ]
  },
  {
   "cell_type": "code",
   "execution_count": 23,
   "id": "250520be-ddf6-49f8-8008-2d053a26b5fd",
   "metadata": {},
   "outputs": [
    {
     "data": {
      "text/plain": [
       "str"
      ]
     },
     "execution_count": 23,
     "metadata": {},
     "output_type": "execute_result"
    }
   ],
   "source": [
    "type(phrase)"
   ]
  },
  {
   "cell_type": "code",
   "execution_count": 24,
   "id": "a31813ad-afd0-4d52-89c3-6fa66028dd64",
   "metadata": {},
   "outputs": [
    {
     "data": {
      "text/plain": [
       "'Ceci est une phrase'"
      ]
     },
     "execution_count": 24,
     "metadata": {},
     "output_type": "execute_result"
    }
   ],
   "source": [
    "phrase"
   ]
  },
  {
   "cell_type": "code",
   "execution_count": 26,
   "id": "4d831705-ef48-428c-96f7-9b9f0dc2d28d",
   "metadata": {},
   "outputs": [
    {
     "ename": "TypeError",
     "evalue": "unsupported operand type(s) for +: 'int' and 'str'",
     "output_type": "error",
     "traceback": [
      "\u001b[0;31m---------------------------------------------------------------------------\u001b[0m",
      "\u001b[0;31mTypeError\u001b[0m                                 Traceback (most recent call last)",
      "Cell \u001b[0;32mIn[26], line 1\u001b[0m\n\u001b[0;32m----> 1\u001b[0m \u001b[38;5;241m1\u001b[39m \u001b[38;5;241m+\u001b[39m phrase\n",
      "\u001b[0;31mTypeError\u001b[0m: unsupported operand type(s) for +: 'int' and 'str'"
     ]
    }
   ],
   "source": [
    "1 + phrase"
   ]
  },
  {
   "cell_type": "markdown",
   "id": "771ad657-8a40-467d-833d-dc95e0389f7e",
   "metadata": {},
   "source": [
    "Le texte comme donnée est délimité par des guillemets"
   ]
  },
  {
   "cell_type": "code",
   "execution_count": 27,
   "id": "b3fa824b-7954-440f-ac64-775966a06d50",
   "metadata": {},
   "outputs": [
    {
     "data": {
      "text/plain": [
       "'Ceci est un texte'"
      ]
     },
     "execution_count": 27,
     "metadata": {},
     "output_type": "execute_result"
    }
   ],
   "source": [
    "\"Ceci est un texte\"\n",
    "'Ceci est un texte'\n",
    "\"\"\"Ceci est un texte\"\"\""
   ]
  },
  {
   "cell_type": "code",
   "execution_count": 28,
   "id": "c9a03716-7423-4f58-8af5-d0a68409fd67",
   "metadata": {},
   "outputs": [
    {
     "data": {
      "text/plain": [
       "'Ceci est un texte'"
      ]
     },
     "execution_count": 28,
     "metadata": {},
     "output_type": "execute_result"
    }
   ],
   "source": [
    "\"Ceci\" + \" est un texte\""
   ]
  },
  {
   "cell_type": "code",
   "execution_count": 29,
   "id": "6812ad99-84e8-428e-9e94-94acdfd62d41",
   "metadata": {},
   "outputs": [
    {
     "ename": "TypeError",
     "evalue": "unsupported operand type(s) for -: 'str' and 'str'",
     "output_type": "error",
     "traceback": [
      "\u001b[0;31m---------------------------------------------------------------------------\u001b[0m",
      "\u001b[0;31mTypeError\u001b[0m                                 Traceback (most recent call last)",
      "Cell \u001b[0;32mIn[29], line 1\u001b[0m\n\u001b[0;32m----> 1\u001b[0m \u001b[38;5;124m\"\u001b[39m\u001b[38;5;124mCeci\u001b[39m\u001b[38;5;124m\"\u001b[39m \u001b[38;5;241m-\u001b[39m \u001b[38;5;124m\"\u001b[39m\u001b[38;5;124m est un texte\u001b[39m\u001b[38;5;124m\"\u001b[39m\n",
      "\u001b[0;31mTypeError\u001b[0m: unsupported operand type(s) for -: 'str' and 'str'"
     ]
    }
   ],
   "source": [
    "\"Ceci\" - \" est un texte\""
   ]
  },
  {
   "cell_type": "code",
   "execution_count": 32,
   "id": "fbf32cef-e894-4d53-9390-1221cf116444",
   "metadata": {},
   "outputs": [
    {
     "data": {
      "text/plain": [
       "'e'"
      ]
     },
     "execution_count": 32,
     "metadata": {},
     "output_type": "execute_result"
    }
   ],
   "source": [
    "phrase[1]"
   ]
  },
  {
   "cell_type": "markdown",
   "id": "24b0cadb-b35c-45cb-b296-d0e88762dc57",
   "metadata": {},
   "source": [
    "## Quatrième ligne"
   ]
  },
  {
   "cell_type": "markdown",
   "id": "8475677d-3318-4e7c-ae12-597f9d83d5dc",
   "metadata": {},
   "source": [
    "Le . est un opérateur d'introspection"
   ]
  },
  {
   "cell_type": "code",
   "execution_count": 42,
   "id": "1c6c9088-8183-4e0b-8d6b-10f8ab3e444d",
   "metadata": {},
   "outputs": [],
   "source": [
    "#dir(str)"
   ]
  },
  {
   "cell_type": "code",
   "execution_count": 50,
   "id": "ce1e4bea-ef1c-4998-b74f-0970482f6bfa",
   "metadata": {},
   "outputs": [],
   "source": [
    "liste_mots = phrase.split(\" \")"
   ]
  },
  {
   "cell_type": "code",
   "execution_count": 34,
   "id": "daf3341c-b63a-49b3-ad9f-a9a3e94a474c",
   "metadata": {},
   "outputs": [
    {
     "data": {
      "text/plain": [
       "\u001b[0;31mSignature:\u001b[0m \u001b[0mphrase\u001b[0m\u001b[0;34m.\u001b[0m\u001b[0msplit\u001b[0m\u001b[0;34m(\u001b[0m\u001b[0msep\u001b[0m\u001b[0;34m=\u001b[0m\u001b[0;32mNone\u001b[0m\u001b[0;34m,\u001b[0m \u001b[0mmaxsplit\u001b[0m\u001b[0;34m=\u001b[0m\u001b[0;34m-\u001b[0m\u001b[0;36m1\u001b[0m\u001b[0;34m)\u001b[0m\u001b[0;34m\u001b[0m\u001b[0;34m\u001b[0m\u001b[0m\n",
       "\u001b[0;31mDocstring:\u001b[0m\n",
       "Return a list of the substrings in the string, using sep as the separator string.\n",
       "\n",
       "  sep\n",
       "    The separator used to split the string.\n",
       "\n",
       "    When set to None (the default value), will split on any whitespace\n",
       "    character (including \\n \\r \\t \\f and spaces) and will discard\n",
       "    empty strings from the result.\n",
       "  maxsplit\n",
       "    Maximum number of splits (starting from the left).\n",
       "    -1 (the default value) means no limit.\n",
       "\n",
       "Note, str.split() is mainly useful for data that has been intentionally\n",
       "delimited.  With natural text that includes punctuation, consider using\n",
       "the regular expression module.\n",
       "\u001b[0;31mType:\u001b[0m      builtin_function_or_method"
      ]
     },
     "metadata": {},
     "output_type": "display_data"
    }
   ],
   "source": [
    "phrase.split?"
   ]
  },
  {
   "cell_type": "code",
   "execution_count": 35,
   "id": "4f2bf7e6-df26-43dd-a4ce-da8ef69f8657",
   "metadata": {},
   "outputs": [
    {
     "data": {
      "text/plain": [
       "['Ceci', 'est', 'une', 'phrase']"
      ]
     },
     "execution_count": 35,
     "metadata": {},
     "output_type": "execute_result"
    }
   ],
   "source": [
    "phrase.split(\" \")"
   ]
  },
  {
   "cell_type": "code",
   "execution_count": 51,
   "id": "3d74f5f1-9cf3-4d88-9056-d5bc9e8aae17",
   "metadata": {},
   "outputs": [
    {
     "data": {
      "text/plain": [
       "['Ceci', 'est', 'une', 'phrase']"
      ]
     },
     "execution_count": 51,
     "metadata": {},
     "output_type": "execute_result"
    }
   ],
   "source": [
    "liste_mots"
   ]
  },
  {
   "cell_type": "code",
   "execution_count": 52,
   "id": "12e84fd3-1f4a-48f3-8a11-b6c3549df7ae",
   "metadata": {},
   "outputs": [
    {
     "data": {
      "text/plain": [
       "list"
      ]
     },
     "execution_count": 52,
     "metadata": {},
     "output_type": "execute_result"
    }
   ],
   "source": [
    "type(liste_mots)"
   ]
  },
  {
   "cell_type": "code",
   "execution_count": 53,
   "id": "e2d3f032-3a35-4156-a5be-c338a897ea55",
   "metadata": {},
   "outputs": [],
   "source": [
    "liste_mots.append(\"coucou\")"
   ]
  },
  {
   "cell_type": "code",
   "execution_count": 55,
   "id": "50051be6-baa6-417c-aa87-35b30d889dab",
   "metadata": {},
   "outputs": [
    {
     "data": {
      "text/plain": [
       "5"
      ]
     },
     "execution_count": 55,
     "metadata": {},
     "output_type": "execute_result"
    }
   ],
   "source": [
    "len(liste_mots)"
   ]
  },
  {
   "cell_type": "markdown",
   "id": "1aebb7c4-62d0-40f0-bd5e-7128d6d80ad9",
   "metadata": {},
   "source": [
    "Fonction `len` pour la longueur des ensembles"
   ]
  },
  {
   "cell_type": "code",
   "execution_count": 58,
   "id": "90c94b21-ba64-45d0-970f-61fba98030d6",
   "metadata": {},
   "outputs": [
    {
     "data": {
      "text/plain": [
       "['une', 'phrase']"
      ]
     },
     "execution_count": 58,
     "metadata": {},
     "output_type": "execute_result"
    }
   ],
   "source": [
    "liste_mots[2:4]"
   ]
  },
  {
   "cell_type": "markdown",
   "id": "1c6faeed-17e7-4e63-aef0-6325031a68c3",
   "metadata": {},
   "source": [
    "Les énumérations en python commencent à 0 (contrairement à R)"
   ]
  },
  {
   "cell_type": "code",
   "execution_count": 60,
   "id": "34e1612b-46e9-4fdf-8c59-ede297d8fe04",
   "metadata": {},
   "outputs": [
    {
     "data": {
      "text/plain": [
       "'coucou'"
      ]
     },
     "execution_count": 60,
     "metadata": {},
     "output_type": "execute_result"
    }
   ],
   "source": [
    "liste_mots[-1]"
   ]
  },
  {
   "cell_type": "markdown",
   "id": "80dbb795-f8f4-4a22-88de-95f03b308591",
   "metadata": {},
   "source": [
    "## Parenthèses"
   ]
  },
  {
   "cell_type": "markdown",
   "id": "7ba6a244-b170-4675-8c54-0f2cfd336a7a",
   "metadata": {},
   "source": [
    "Il y a des fonctions de transtypage : str(), int(), float()"
   ]
  },
  {
   "cell_type": "code",
   "execution_count": 43,
   "id": "76a90f56-5016-4ad4-a0ee-dfa0b44f3601",
   "metadata": {},
   "outputs": [
    {
     "data": {
      "text/plain": [
       "'10'"
      ]
     },
     "execution_count": 43,
     "metadata": {},
     "output_type": "execute_result"
    }
   ],
   "source": [
    "str(10)"
   ]
  },
  {
   "cell_type": "code",
   "execution_count": 46,
   "id": "3eecba74-f9c5-4719-a871-195224e39b55",
   "metadata": {},
   "outputs": [
    {
     "data": {
      "text/plain": [
       "10"
      ]
     },
     "execution_count": 46,
     "metadata": {},
     "output_type": "execute_result"
    }
   ],
   "source": [
    "int(\"10\")"
   ]
  },
  {
   "cell_type": "markdown",
   "id": "0c97f05a-a372-4c53-9054-c5c3e33032de",
   "metadata": {},
   "source": [
    "## Retour aux listes"
   ]
  },
  {
   "cell_type": "code",
   "execution_count": 61,
   "id": "3fcaaf48-5445-4dad-a2f4-86c5ea745ddf",
   "metadata": {},
   "outputs": [],
   "source": [
    "ma_liste = [43, \"coucou\", \"CHAT\", True]"
   ]
  },
  {
   "cell_type": "code",
   "execution_count": 62,
   "id": "9593fc46-ee19-4949-88d0-f4d80fd62cd7",
   "metadata": {},
   "outputs": [
    {
     "data": {
      "text/plain": [
       "4"
      ]
     },
     "execution_count": 62,
     "metadata": {},
     "output_type": "execute_result"
    }
   ],
   "source": [
    "len(ma_liste)"
   ]
  },
  {
   "cell_type": "code",
   "execution_count": 63,
   "id": "30be9575-693b-4b52-bb52-d9c49933e916",
   "metadata": {},
   "outputs": [
    {
     "data": {
      "text/plain": [
       "True"
      ]
     },
     "execution_count": 63,
     "metadata": {},
     "output_type": "execute_result"
    }
   ],
   "source": [
    "ma_liste[3]"
   ]
  },
  {
   "cell_type": "code",
   "execution_count": 64,
   "id": "d21f9756-b281-4bf5-a34a-6c6f45069b35",
   "metadata": {},
   "outputs": [
    {
     "data": {
      "text/plain": [
       "['a', 'b', 1, 10]"
      ]
     },
     "execution_count": 64,
     "metadata": {},
     "output_type": "execute_result"
    }
   ],
   "source": [
    "[\"a\",\"b\"] + [1,10]"
   ]
  },
  {
   "cell_type": "markdown",
   "id": "cb4f71c2-2cfe-449c-a8c7-3ee292b2ce99",
   "metadata": {},
   "source": [
    "## Cinquième ligne"
   ]
  },
  {
   "cell_type": "code",
   "execution_count": 66,
   "id": "752ade41-3ffd-40ec-bd6b-cf885728727f",
   "metadata": {},
   "outputs": [
    {
     "data": {
      "text/plain": [
       "\u001b[0;31mSignature:\u001b[0m \u001b[0mlen\u001b[0m\u001b[0;34m(\u001b[0m\u001b[0mobj\u001b[0m\u001b[0;34m,\u001b[0m \u001b[0;34m/\u001b[0m\u001b[0;34m)\u001b[0m\u001b[0;34m\u001b[0m\u001b[0;34m\u001b[0m\u001b[0m\n",
       "\u001b[0;31mDocstring:\u001b[0m Return the number of items in a container.\n",
       "\u001b[0;31mType:\u001b[0m      builtin_function_or_method"
      ]
     },
     "metadata": {},
     "output_type": "display_data"
    }
   ],
   "source": [
    "len?"
   ]
  },
  {
   "cell_type": "code",
   "execution_count": 65,
   "id": "676b0ca2-e8f9-4642-9a16-065bb7a52731",
   "metadata": {},
   "outputs": [],
   "source": [
    "nombre_mots = len(liste_mots)"
   ]
  },
  {
   "cell_type": "markdown",
   "id": "9ab958d7-1f62-45cb-be46-8710c08bb1df",
   "metadata": {},
   "source": [
    "## Les conditions : sixième et septième lignes\n",
    "\n",
    "````python\n",
    "\n",
    "if CONDITION:\n",
    "    code à exécuter si CONDITION == True\n",
    "else:\n",
    "    code à exécuter si CODNITION == False\n",
    "\n",
    "````"
   ]
  },
  {
   "cell_type": "code",
   "execution_count": 72,
   "id": "27887dda-4bbf-492b-b458-bd09266eac5e",
   "metadata": {},
   "outputs": [
    {
     "name": "stdout",
     "output_type": "stream",
     "text": [
      "Faux\n"
     ]
    }
   ],
   "source": [
    "CONDITION = (10 > 5) and len([1,2]) > 10\n",
    "if CONDITION:\n",
    "    print(\"Vrai\")\n",
    "else:\n",
    "    print(\"Faux\")"
   ]
  },
  {
   "cell_type": "markdown",
   "id": "165cdaf2-a9b3-43ae-b3a2-c8d0597dc579",
   "metadata": {},
   "source": [
    "## Les boucles"
   ]
  },
  {
   "cell_type": "code",
   "execution_count": 89,
   "id": "3d7d5eb1-ec20-41ba-b12a-a38255eee437",
   "metadata": {},
   "outputs": [
    {
     "name": "stdout",
     "output_type": "stream",
     "text": [
      "Je\n",
      "suis\n",
      "et\n",
      "vous\n"
     ]
    }
   ],
   "source": [
    "liste = [\"Je\", \"suis\" , \"fatigué\",      \"et\",     \"vous\", \"?\"]\n",
    "print(liste[0])\n",
    "print(liste[1])\n",
    "print(liste[3])\n",
    "print(liste[4])"
   ]
  },
  {
   "cell_type": "code",
   "execution_count": 88,
   "id": "2b45fce4-7312-4672-83c0-854013ddf11c",
   "metadata": {},
   "outputs": [
    {
     "name": "stdout",
     "output_type": "stream",
     "text": [
      "Je\n",
      "['Je', 'suis', 'fatigué', 'et', 'vous', '?']\n",
      "suis\n",
      "['Je', 'suis', 'fatigué', 'et', 'vous', '?']\n",
      "fatigué\n",
      "['Je', 'suis', 'fatigué', 'et', 'vous', '?']\n",
      "et\n",
      "['Je', 'suis', 'fatigué', 'et', 'vous', '?']\n",
      "vous\n",
      "['Je', 'suis', 'fatigué', 'et', 'vous', '?']\n",
      "?\n",
      "['Je', 'suis', 'fatigué', 'et', 'vous', '?']\n"
     ]
    }
   ],
   "source": [
    "# chat n'existe pas\n",
    "for chat in liste: # ici chat est créé avec la première valeur de ma liste\n",
    "    # a chaque itération, chat prend la valeur suivante de la liste\n",
    "    print(element)\n",
    "    print(liste)"
   ]
  },
  {
   "cell_type": "code",
   "execution_count": 92,
   "id": "a87ea35f-a145-4d8f-9b14-73ecaf77c0db",
   "metadata": {},
   "outputs": [
    {
     "name": "stdout",
     "output_type": "stream",
     "text": [
      "loup\n",
      "lapin\n"
     ]
    }
   ],
   "source": [
    "for k in [\"loup\", \"lapin\"]:\n",
    "    print(k)"
   ]
  },
  {
   "cell_type": "code",
   "execution_count": 93,
   "id": "9538d19a-88c2-43b7-a8f8-ddad0a0298f4",
   "metadata": {},
   "outputs": [
    {
     "data": {
      "text/plain": [
       "'lapin'"
      ]
     },
     "execution_count": 93,
     "metadata": {},
     "output_type": "execute_result"
    }
   ],
   "source": [
    "k"
   ]
  },
  {
   "cell_type": "markdown",
   "id": "938064d7-a3b5-488b-87d7-52bf01c80551",
   "metadata": {},
   "source": [
    "## Ligne suivante"
   ]
  },
  {
   "cell_type": "code",
   "execution_count": 96,
   "id": "e753b756-7a37-4b89-82a4-aa7bb57d7988",
   "metadata": {},
   "outputs": [
    {
     "data": {
      "text/plain": [
       "57.14"
      ]
     },
     "execution_count": 96,
     "metadata": {},
     "output_type": "execute_result"
    }
   ],
   "source": [
    "proportion = round(100 * compteur / nombre_mots, 2)\n",
    "proportion"
   ]
  },
  {
   "cell_type": "code",
   "execution_count": 95,
   "id": "04dd334d-a6fc-4902-b3ac-5a0121686078",
   "metadata": {},
   "outputs": [
    {
     "data": {
      "text/plain": [
       "\u001b[0;31mSignature:\u001b[0m \u001b[0mround\u001b[0m\u001b[0;34m(\u001b[0m\u001b[0mnumber\u001b[0m\u001b[0;34m,\u001b[0m \u001b[0mndigits\u001b[0m\u001b[0;34m=\u001b[0m\u001b[0;32mNone\u001b[0m\u001b[0;34m)\u001b[0m\u001b[0;34m\u001b[0m\u001b[0;34m\u001b[0m\u001b[0m\n",
       "\u001b[0;31mDocstring:\u001b[0m\n",
       "Round a number to a given precision in decimal digits.\n",
       "\n",
       "The return value is an integer if ndigits is omitted or None.  Otherwise\n",
       "the return value has the same type as the number.  ndigits may be negative.\n",
       "\u001b[0;31mType:\u001b[0m      builtin_function_or_method"
      ]
     },
     "metadata": {},
     "output_type": "display_data"
    }
   ],
   "source": [
    "round?"
   ]
  },
  {
   "cell_type": "markdown",
   "id": "60007813-47b8-4323-b053-495e08f6958f",
   "metadata": {},
   "source": [
    "## Les dictionnaires"
   ]
  },
  {
   "cell_type": "code",
   "execution_count": 97,
   "id": "7b511ea2-16b2-4118-b74d-ee6d57a108dc",
   "metadata": {},
   "outputs": [],
   "source": [
    "informations = {\n",
    "    \"Total\": compteur,\n",
    "    \"Proportion\": proportion,\n",
    "    \"Phrase\": phrase,\n",
    "    \"Seuil\": nombre_min_lettres,\n",
    "}"
   ]
  },
  {
   "cell_type": "markdown",
   "id": "300f8a94-f838-48c8-8704-80c0402851a9",
   "metadata": {},
   "source": [
    "Dictionaire : un ensemble de pairs { clé:valeur }"
   ]
  },
  {
   "cell_type": "code",
   "execution_count": 106,
   "id": "0502380b-96af-4826-8571-5d1fc63c92d0",
   "metadata": {},
   "outputs": [],
   "source": [
    "mon_dictionnaire = {\n",
    "                    \"chat\":{\"nom\":\"dédé\", \"classe\": \"mamifère\"},\n",
    "                    \"pigeon\":\"truc qui vole\"\n",
    "                   }"
   ]
  },
  {
   "cell_type": "code",
   "execution_count": 107,
   "id": "1d4ff0f5-b0fa-4f6c-9a31-a07503e9209c",
   "metadata": {},
   "outputs": [
    {
     "data": {
      "text/plain": [
       "{'nom': 'dédé', 'classe': 'mamifère'}"
      ]
     },
     "execution_count": 107,
     "metadata": {},
     "output_type": "execute_result"
    }
   ],
   "source": [
    "mon_dictionnaire[\"chat\"]"
   ]
  },
  {
   "cell_type": "code",
   "execution_count": 102,
   "id": "15aa585d-2b99-4402-8ac9-331baf62f971",
   "metadata": {},
   "outputs": [
    {
     "data": {
      "text/plain": [
       "'truc qui vole'"
      ]
     },
     "execution_count": 102,
     "metadata": {},
     "output_type": "execute_result"
    }
   ],
   "source": [
    "mon_dictionnaire[\"pigeon\"]"
   ]
  },
  {
   "cell_type": "code",
   "execution_count": 104,
   "id": "43fdff25-2c0e-4bc1-80ed-2e5f22b76208",
   "metadata": {},
   "outputs": [
    {
     "name": "stdout",
     "output_type": "stream",
     "text": [
      "chat mamifère\n",
      "pigeon truc qui vole\n"
     ]
    }
   ],
   "source": [
    "for cle in mon_dictionnaire:\n",
    "    print(cle, mon_dictionnaire[cle])"
   ]
  },
  {
   "cell_type": "markdown",
   "id": "4377d30c-75d5-4785-ac15-a854ffcbe76b",
   "metadata": {},
   "source": [
    "## Nouvelle variable : sortie mise en forme"
   ]
  },
  {
   "cell_type": "code",
   "execution_count": 112,
   "id": "d193e3ce-591e-4ad9-aac3-603315c7d48f",
   "metadata": {},
   "outputs": [
    {
     "data": {
      "text/plain": [
       "'Proportion de mots avec 4.000000 lettres ou plus : 57.140000'"
      ]
     },
     "execution_count": 112,
     "metadata": {},
     "output_type": "execute_result"
    }
   ],
   "source": [
    "sortie = f\"Proportion de mots avec {nombre_min_lettres} lettres ou plus : {proportion}\"\n",
    "sortie = \"Proportion de mots avec \" + str(nombre_min_lettres) +\" lettres ou plus : \" + str(proportion)\n",
    "sortie = \"Proportion de mots avec %f lettres ou plus : %f\" %(nombre_min_lettres,proportion)\n",
    "\n",
    "sortie"
   ]
  },
  {
   "cell_type": "code",
   "execution_count": 114,
   "id": "edf0609d-4d7d-4dcf-ab86-d0dc7da6ae6c",
   "metadata": {},
   "outputs": [
    {
     "data": {
      "text/plain": [
       "str"
      ]
     },
     "execution_count": 114,
     "metadata": {},
     "output_type": "execute_result"
    }
   ],
   "source": [
    "sortie = f(\"Proportion de mots avec {nombre_min_lettres} lettres ou plus : {proportion}\")"
   ]
  },
  {
   "cell_type": "markdown",
   "id": "fb484b08-91c9-4d8c-8ac4-6ae01f38d6c6",
   "metadata": {},
   "source": [
    "## Ecriture/Lecture de fichiers\n",
    "\n",
    "- on ouvre un fichier avec open\n",
    "- on fait les opérations (soit lecture, soit écriture)\n",
    "- on ferme le fichier"
   ]
  },
  {
   "cell_type": "code",
   "execution_count": 128,
   "id": "d780aff2-2403-4bff-9415-e50ceed5c1fc",
   "metadata": {},
   "outputs": [
    {
     "data": {
      "text/plain": [
       "'/Users/emilien/Dropbox'"
      ]
     },
     "execution_count": 128,
     "metadata": {},
     "output_type": "execute_result"
    }
   ],
   "source": [
    "pwd"
   ]
  },
  {
   "cell_type": "code",
   "execution_count": 122,
   "id": "a784ee44-84cd-4909-af57-9af76a05d8a0",
   "metadata": {},
   "outputs": [],
   "source": [
    "canal = open(\"monfichier.txt\",\"w\")"
   ]
  },
  {
   "cell_type": "code",
   "execution_count": 123,
   "id": "64ebe07a-4b67-4b96-9705-23f8dad6a15b",
   "metadata": {},
   "outputs": [
    {
     "data": {
      "text/plain": [
       "6"
      ]
     },
     "execution_count": 123,
     "metadata": {},
     "output_type": "execute_result"
    }
   ],
   "source": [
    "canal.write(\"Coucou\")"
   ]
  },
  {
   "cell_type": "code",
   "execution_count": 124,
   "id": "be4d29e0-eb2d-4ff6-a590-9e1b7411b780",
   "metadata": {},
   "outputs": [],
   "source": [
    "canal.close()"
   ]
  }
 ],
 "metadata": {
  "kernelspec": {
   "display_name": "Python 3 (ipykernel)",
   "language": "python",
   "name": "python3"
  },
  "language_info": {
   "codemirror_mode": {
    "name": "ipython",
    "version": 3
   },
   "file_extension": ".py",
   "mimetype": "text/x-python",
   "name": "python",
   "nbconvert_exporter": "python",
   "pygments_lexer": "ipython3",
   "version": "3.11.7"
  }
 },
 "nbformat": 4,
 "nbformat_minor": 5
}
