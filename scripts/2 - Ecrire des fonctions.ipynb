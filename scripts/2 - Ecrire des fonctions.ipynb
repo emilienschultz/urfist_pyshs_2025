{
 "cells": [
  {
   "cell_type": "markdown",
   "id": "aa4a09ea-168f-4f82-bbcc-20e294c972f4",
   "metadata": {},
   "source": [
    "# Ecrire des fonctions"
   ]
  },
  {
   "cell_type": "code",
   "execution_count": 2,
   "id": "17424be2-17d0-40e5-9763-d33ff65917e3",
   "metadata": {},
   "outputs": [
    {
     "data": {
      "text/plain": [
       "builtin_function_or_method"
      ]
     },
     "execution_count": 2,
     "metadata": {},
     "output_type": "execute_result"
    }
   ],
   "source": [
    "type(len)"
   ]
  },
  {
   "cell_type": "markdown",
   "id": "f1270b55-fbfb-48e2-8e7c-1726f1c097ca",
   "metadata": {},
   "source": [
    "Je veux une fonction qui prend en entrée un nombre et retourne le nombre multiplié par 10"
   ]
  },
  {
   "cell_type": "code",
   "execution_count": 18,
   "id": "431b6fd2-d6fd-4806-a068-35968d5b29b6",
   "metadata": {},
   "outputs": [],
   "source": [
    "def multiplier_par_10(nombre_a_multiplier): # fonction avec 1 argument d'entrée\n",
    "    if type(nombre_a_multiplier) == str or type(nombre_a_multiplier) == list:\n",
    "        print(\"ERROR\")\n",
    "        return None\n",
    "    return 10.0 * nombre_a_multiplier # qui retourne le nombre multiplié"
   ]
  },
  {
   "cell_type": "code",
   "execution_count": 5,
   "id": "7e6bb939-2ae5-41e6-99e8-9007d3f92e8f",
   "metadata": {},
   "outputs": [
    {
     "data": {
      "text/plain": [
       "function"
      ]
     },
     "execution_count": 5,
     "metadata": {},
     "output_type": "execute_result"
    }
   ],
   "source": [
    "type(multiplier_par_10)"
   ]
  },
  {
   "cell_type": "code",
   "execution_count": 8,
   "id": "d78f5401-e479-44b4-b1ea-1b8c536f9108",
   "metadata": {},
   "outputs": [
    {
     "data": {
      "text/plain": [
       "320"
      ]
     },
     "execution_count": 8,
     "metadata": {},
     "output_type": "execute_result"
    }
   ],
   "source": [
    "multiplier_par_10(32)"
   ]
  },
  {
   "cell_type": "code",
   "execution_count": 19,
   "id": "9cd1f521-81d4-45f1-94d4-3a63403128cf",
   "metadata": {},
   "outputs": [
    {
     "name": "stdout",
     "output_type": "stream",
     "text": [
      "ERROR\n"
     ]
    }
   ],
   "source": [
    "multiplier_par_10([1,2])"
   ]
  },
  {
   "cell_type": "markdown",
   "id": "fd25e7b7-9478-44e2-ad05-1cd45d308a67",
   "metadata": {},
   "source": [
    "## Exercice"
   ]
  },
  {
   "cell_type": "markdown",
   "id": "5a48b2e5-8564-445c-bcf3-b4e9a35300ab",
   "metadata": {},
   "source": [
    "Créer une fonction qui prend en entrée un texte et un seuil et qui renvoie la proportion de mots au dessus du seuil"
   ]
  },
  {
   "cell_type": "code",
   "execution_count": 37,
   "id": "ab0be481-6266-43fe-85a6-f4b72a7e3946",
   "metadata": {},
   "outputs": [],
   "source": [
    "def prop_mots_longs(texte, seuil = 4)   :\n",
    "    \"\"\"\n",
    "    Renvoie la proportion de mots de plus de [seuil] lettres (%)\n",
    "    \"\"\"\n",
    "    if len(texte) == 0 :\n",
    "        print(\"Texte vide\")\n",
    "        return None\n",
    "    else:    \n",
    "        liste_mots = texte.split(\" \")\n",
    "        nombre_mots = len(liste_mots)\n",
    "        compteur = 0\n",
    "        for mot in liste_mots:\n",
    "            if len(mot) >= seuil: \n",
    "                compteur = compteur + 1\n",
    "        proportion = round(100 * compteur / nombre_mots, 2)\n",
    "        return proportion"
   ]
  },
  {
   "cell_type": "code",
   "execution_count": 38,
   "id": "fef0de25-d846-4129-aa5a-38a6f0f01c72",
   "metadata": {},
   "outputs": [
    {
     "data": {
      "text/plain": [
       "0.0"
      ]
     },
     "execution_count": 38,
     "metadata": {},
     "output_type": "execute_result"
    }
   ],
   "source": [
    "prop_mots_longs(\"Une phrase\", 10)"
   ]
  },
  {
   "cell_type": "code",
   "execution_count": 40,
   "id": "f6f2b674-32a0-4032-83bd-e5c64517b094",
   "metadata": {},
   "outputs": [
    {
     "name": "stdout",
     "output_type": "stream",
     "text": [
      "Python c'est bien 66.67\n",
      "Java c'est cool 33.33\n",
      "La sociologie c'est super 75.0\n"
     ]
    }
   ],
   "source": [
    "mes_textes = [\"Python c'est bien\", \"Java c'est cool\", \"La sociologie c'est super\"]\n",
    "for t in mes_textes:\n",
    "    print(t, prop_mots_longs(t, 5))"
   ]
  },
  {
   "cell_type": "code",
   "execution_count": 43,
   "id": "e4294127-c48e-4041-9743-5cdee4a076a0",
   "metadata": {
    "scrolled": true
   },
   "outputs": [
    {
     "name": "stdout",
     "output_type": "stream",
     "text": [
      "60.0\n",
      "100.0\n",
      "100.0\n",
      "40.0\n"
     ]
    }
   ],
   "source": [
    "with open(\"./textes.txt\",\"r\") as f:\n",
    "    textes = f.readlines()\n",
    "for t in textes:\n",
    "    print(prop_mots_longs(t,5))"
   ]
  },
  {
   "cell_type": "code",
   "execution_count": null,
   "id": "6f930f47-1b57-4c92-9254-8532d424cd45",
   "metadata": {},
   "outputs": [],
   "source": []
  },
  {
   "cell_type": "code",
   "execution_count": 44,
   "id": "7275babe-f533-4246-b0bc-30c868890a48",
   "metadata": {},
   "outputs": [],
   "source": [
    "import ma_fonctions"
   ]
  },
  {
   "cell_type": "code",
   "execution_count": 45,
   "id": "7000e727-d3ba-476b-8dc6-0e14d164fc81",
   "metadata": {},
   "outputs": [
    {
     "data": {
      "text/plain": [
       "100.0"
      ]
     },
     "execution_count": 45,
     "metadata": {},
     "output_type": "execute_result"
    }
   ],
   "source": [
    "ma_fonctions.prop_mots_longs(\"Coucou\", 4)"
   ]
  }
 ],
 "metadata": {
  "kernelspec": {
   "display_name": "Python 3 (ipykernel)",
   "language": "python",
   "name": "python3"
  },
  "language_info": {
   "codemirror_mode": {
    "name": "ipython",
    "version": 3
   },
   "file_extension": ".py",
   "mimetype": "text/x-python",
   "name": "python",
   "nbconvert_exporter": "python",
   "pygments_lexer": "ipython3",
   "version": "3.11.7"
  }
 },
 "nbformat": 4,
 "nbformat_minor": 5
}
