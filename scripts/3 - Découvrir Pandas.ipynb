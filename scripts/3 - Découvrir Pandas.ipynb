{
 "cells": [
  {
   "cell_type": "markdown",
   "metadata": {},
   "source": [
    "# Pandas pour l'analyse de données"
   ]
  },
  {
   "cell_type": "code",
   "execution_count": null,
   "metadata": {},
   "outputs": [],
   "source": [
    "import pandas as pd"
   ]
  },
  {
   "cell_type": "code",
   "execution_count": 4,
   "metadata": {},
   "outputs": [],
   "source": [
    "df = pd.read_excel(\"../../data/anr-dos-depuis-2010-projets-finances-20250202-projets.xlsx\")"
   ]
  },
  {
   "cell_type": "code",
   "execution_count": 10,
   "metadata": {},
   "outputs": [
    {
     "data": {
      "text/plain": [
       "pandas.core.frame.DataFrame"
      ]
     },
     "execution_count": 10,
     "metadata": {},
     "output_type": "execute_result"
    }
   ],
   "source": [
    "type(df)"
   ]
  },
  {
   "cell_type": "code",
   "execution_count": 6,
   "metadata": {},
   "outputs": [
    {
     "data": {
      "text/plain": [
       "(23229, 10)"
      ]
     },
     "execution_count": 6,
     "metadata": {},
     "output_type": "execute_result"
    }
   ],
   "source": [
    "df.shape"
   ]
  },
  {
   "cell_type": "code",
   "execution_count": 7,
   "metadata": {},
   "outputs": [
    {
     "data": {
      "text/plain": [
       "Index(['Projet.Code_Decision_ANR', 'AAP.Edition', 'Projet.Acronyme',\n",
       "       'Projet.Titre.Francais', 'Projet.Titre.Anglais',\n",
       "       'Projet.Resume.Francais', 'Projet.Resume.Anglais', 'Programme.Acronyme',\n",
       "       'Projet.Montant.AF.Aide_allouee.ANR', 'Projet.T0 scientifique'],\n",
       "      dtype='object')"
      ]
     },
     "execution_count": 7,
     "metadata": {},
     "output_type": "execute_result"
    }
   ],
   "source": [
    "df.columns"
   ]
  },
  {
   "cell_type": "code",
   "execution_count": 9,
   "metadata": {},
   "outputs": [
    {
     "data": {
      "text/html": [
       "<div>\n",
       "<style scoped>\n",
       "    .dataframe tbody tr th:only-of-type {\n",
       "        vertical-align: middle;\n",
       "    }\n",
       "\n",
       "    .dataframe tbody tr th {\n",
       "        vertical-align: top;\n",
       "    }\n",
       "\n",
       "    .dataframe thead th {\n",
       "        text-align: right;\n",
       "    }\n",
       "</style>\n",
       "<table border=\"1\" class=\"dataframe\">\n",
       "  <thead>\n",
       "    <tr style=\"text-align: right;\">\n",
       "      <th></th>\n",
       "      <th>Projet.Code_Decision_ANR</th>\n",
       "      <th>AAP.Edition</th>\n",
       "      <th>Projet.Acronyme</th>\n",
       "      <th>Projet.Titre.Francais</th>\n",
       "      <th>Projet.Titre.Anglais</th>\n",
       "      <th>Projet.Resume.Francais</th>\n",
       "      <th>Projet.Resume.Anglais</th>\n",
       "      <th>Programme.Acronyme</th>\n",
       "      <th>Projet.Montant.AF.Aide_allouee.ANR</th>\n",
       "      <th>Projet.T0 scientifique</th>\n",
       "    </tr>\n",
       "  </thead>\n",
       "  <tbody>\n",
       "    <tr>\n",
       "      <th>0</th>\n",
       "      <td>ANR-24-THCS-0004</td>\n",
       "      <td>2024</td>\n",
       "      <td>Digital CACTUS</td>\n",
       "      <td>Digital CAre Contribution to the Transformatio...</td>\n",
       "      <td>Digital CAre Contribution to the Transformatio...</td>\n",
       "      <td>In Western countries, about 40% of adults have...</td>\n",
       "      <td>NaN</td>\n",
       "      <td>THCS</td>\n",
       "      <td>531359.1</td>\n",
       "      <td>2024-09-01</td>\n",
       "    </tr>\n",
       "    <tr>\n",
       "      <th>1</th>\n",
       "      <td>ANR-24-THCS-0003</td>\n",
       "      <td>2024</td>\n",
       "      <td>EU-MIND</td>\n",
       "      <td>EUropean Mental and physical health Initiative...</td>\n",
       "      <td>EUropean Mental and physical health Initiative...</td>\n",
       "      <td>Over a 3-year project, EU-MINDs ambition is to...</td>\n",
       "      <td>NaN</td>\n",
       "      <td>THCS</td>\n",
       "      <td>188209.6</td>\n",
       "      <td>2024-06-12</td>\n",
       "    </tr>\n",
       "    <tr>\n",
       "      <th>2</th>\n",
       "      <td>ANR-24-THCS-0002</td>\n",
       "      <td>2024</td>\n",
       "      <td>RENEW</td>\n",
       "      <td>Reshaping data-driven smart healthcare to opti...</td>\n",
       "      <td>Reshaping data-driven smart healthcare to opti...</td>\n",
       "      <td>The demand for convenient and accurate medical...</td>\n",
       "      <td>NaN</td>\n",
       "      <td>THCS</td>\n",
       "      <td>259571.5</td>\n",
       "      <td>2024-06-01</td>\n",
       "    </tr>\n",
       "    <tr>\n",
       "      <th>3</th>\n",
       "      <td>ANR-24-THCS-0001</td>\n",
       "      <td>2024</td>\n",
       "      <td>MI-RICORDO</td>\n",
       "      <td>Transcultural and Multidimensional validation ...</td>\n",
       "      <td>Transcultural and Multidimensional validation ...</td>\n",
       "      <td>Among NCD-related disabilities, cognitive impa...</td>\n",
       "      <td>NaN</td>\n",
       "      <td>THCS</td>\n",
       "      <td>260000.0</td>\n",
       "      <td>2024-09-30</td>\n",
       "    </tr>\n",
       "    <tr>\n",
       "      <th>4</th>\n",
       "      <td>ANR-24-SS22-0012</td>\n",
       "      <td>2024</td>\n",
       "      <td>TROPIQUES</td>\n",
       "      <td>Tristes Tropiques Numérique</td>\n",
       "      <td>Digital Tristes Tropiques</td>\n",
       "      <td>L’équipe de l’EHESS, coordonnée par Emmanuel D...</td>\n",
       "      <td>The EHESS team, coordinated by Emmanuel Désvea...</td>\n",
       "      <td>SAPS</td>\n",
       "      <td>2500.0</td>\n",
       "      <td>2024-10-01</td>\n",
       "    </tr>\n",
       "  </tbody>\n",
       "</table>\n",
       "</div>"
      ],
      "text/plain": [
       "  Projet.Code_Decision_ANR  AAP.Edition Projet.Acronyme  \\\n",
       "0         ANR-24-THCS-0004         2024  Digital CACTUS   \n",
       "1         ANR-24-THCS-0003         2024         EU-MIND   \n",
       "2         ANR-24-THCS-0002         2024           RENEW   \n",
       "3         ANR-24-THCS-0001         2024      MI-RICORDO   \n",
       "4         ANR-24-SS22-0012         2024       TROPIQUES   \n",
       "\n",
       "                               Projet.Titre.Francais  \\\n",
       "0  Digital CAre Contribution to the Transformatio...   \n",
       "1  EUropean Mental and physical health Initiative...   \n",
       "2  Reshaping data-driven smart healthcare to opti...   \n",
       "3  Transcultural and Multidimensional validation ...   \n",
       "4                        Tristes Tropiques Numérique   \n",
       "\n",
       "                                Projet.Titre.Anglais  \\\n",
       "0  Digital CAre Contribution to the Transformatio...   \n",
       "1  EUropean Mental and physical health Initiative...   \n",
       "2  Reshaping data-driven smart healthcare to opti...   \n",
       "3  Transcultural and Multidimensional validation ...   \n",
       "4                          Digital Tristes Tropiques   \n",
       "\n",
       "                              Projet.Resume.Francais  \\\n",
       "0  In Western countries, about 40% of adults have...   \n",
       "1  Over a 3-year project, EU-MINDs ambition is to...   \n",
       "2  The demand for convenient and accurate medical...   \n",
       "3  Among NCD-related disabilities, cognitive impa...   \n",
       "4  L’équipe de l’EHESS, coordonnée par Emmanuel D...   \n",
       "\n",
       "                               Projet.Resume.Anglais Programme.Acronyme  \\\n",
       "0                                                NaN               THCS   \n",
       "1                                                NaN               THCS   \n",
       "2                                                NaN               THCS   \n",
       "3                                                NaN               THCS   \n",
       "4  The EHESS team, coordinated by Emmanuel Désvea...               SAPS   \n",
       "\n",
       "   Projet.Montant.AF.Aide_allouee.ANR Projet.T0 scientifique  \n",
       "0                            531359.1             2024-09-01  \n",
       "1                            188209.6             2024-06-12  \n",
       "2                            259571.5             2024-06-01  \n",
       "3                            260000.0             2024-09-30  \n",
       "4                              2500.0             2024-10-01  "
      ]
     },
     "execution_count": 9,
     "metadata": {},
     "output_type": "execute_result"
    }
   ],
   "source": [
    "df.head(5)"
   ]
  },
  {
   "cell_type": "code",
   "execution_count": 12,
   "metadata": {},
   "outputs": [],
   "source": [
    "df.rename(columns={\"AAP.Edition\":\"annee\", \"Projet.Montant.AF.Aide_allouee.ANR\":\"montant\"}, inplace=True)"
   ]
  },
  {
   "cell_type": "code",
   "execution_count": 14,
   "metadata": {},
   "outputs": [
    {
     "data": {
      "text/plain": [
       "Projet.Code_Decision_ANR       0\n",
       "annee                          0\n",
       "Projet.Acronyme                0\n",
       "Projet.Titre.Francais        567\n",
       "Projet.Titre.Anglais         349\n",
       "Projet.Resume.Francais      1899\n",
       "Projet.Resume.Anglais       1190\n",
       "Programme.Acronyme             0\n",
       "montant                        0\n",
       "Projet.T0 scientifique         2\n",
       "dtype: int64"
      ]
     },
     "execution_count": 14,
     "metadata": {},
     "output_type": "execute_result"
    }
   ],
   "source": [
    "df.isna().sum()"
   ]
  },
  {
   "cell_type": "code",
   "execution_count": 19,
   "metadata": {},
   "outputs": [
    {
     "data": {
      "text/plain": [
       "391866.37686168146"
      ]
     },
     "execution_count": 19,
     "metadata": {},
     "output_type": "execute_result"
    }
   ],
   "source": [
    "(df[\"montant\"]).mean()"
   ]
  },
  {
   "cell_type": "code",
   "execution_count": 28,
   "metadata": {},
   "outputs": [
    {
     "data": {
      "text/plain": [
       "224131.73683343388"
      ]
     },
     "execution_count": 28,
     "metadata": {},
     "output_type": "execute_result"
    }
   ],
   "source": [
    "(df[\"montant\"]).std()"
   ]
  },
  {
   "cell_type": "code",
   "execution_count": 30,
   "metadata": {},
   "outputs": [
    {
     "data": {
      "text/plain": [
       "count    2.322900e+04\n",
       "mean     3.918664e+05\n",
       "std      2.241317e+05\n",
       "min      2.500000e+03\n",
       "25%      2.451600e+05\n",
       "50%      3.630000e+05\n",
       "75%      5.168727e+05\n",
       "max      6.480000e+06\n",
       "Name: montant, dtype: float64"
      ]
     },
     "execution_count": 30,
     "metadata": {},
     "output_type": "execute_result"
    }
   ],
   "source": [
    "(df[\"montant\"]).describe()"
   ]
  },
  {
   "cell_type": "code",
   "execution_count": 23,
   "metadata": {},
   "outputs": [
    {
     "data": {
      "text/html": [
       "<div>\n",
       "<style scoped>\n",
       "    .dataframe tbody tr th:only-of-type {\n",
       "        vertical-align: middle;\n",
       "    }\n",
       "\n",
       "    .dataframe tbody tr th {\n",
       "        vertical-align: top;\n",
       "    }\n",
       "\n",
       "    .dataframe thead th {\n",
       "        text-align: right;\n",
       "    }\n",
       "</style>\n",
       "<table border=\"1\" class=\"dataframe\">\n",
       "  <thead>\n",
       "    <tr style=\"text-align: right;\">\n",
       "      <th></th>\n",
       "      <th>annee</th>\n",
       "      <th>montant</th>\n",
       "    </tr>\n",
       "  </thead>\n",
       "  <tbody>\n",
       "    <tr>\n",
       "      <th>0</th>\n",
       "      <td>2024</td>\n",
       "      <td>531359.1</td>\n",
       "    </tr>\n",
       "    <tr>\n",
       "      <th>1</th>\n",
       "      <td>2024</td>\n",
       "      <td>188209.6</td>\n",
       "    </tr>\n",
       "    <tr>\n",
       "      <th>2</th>\n",
       "      <td>2024</td>\n",
       "      <td>259571.5</td>\n",
       "    </tr>\n",
       "    <tr>\n",
       "      <th>3</th>\n",
       "      <td>2024</td>\n",
       "      <td>260000.0</td>\n",
       "    </tr>\n",
       "    <tr>\n",
       "      <th>4</th>\n",
       "      <td>2024</td>\n",
       "      <td>2500.0</td>\n",
       "    </tr>\n",
       "  </tbody>\n",
       "</table>\n",
       "</div>"
      ],
      "text/plain": [
       "   annee   montant\n",
       "0   2024  531359.1\n",
       "1   2024  188209.6\n",
       "2   2024  259571.5\n",
       "3   2024  260000.0\n",
       "4   2024    2500.0"
      ]
     },
     "execution_count": 23,
     "metadata": {},
     "output_type": "execute_result"
    }
   ],
   "source": [
    "df[[\"annee\",\"montant\"]].head()"
   ]
  },
  {
   "cell_type": "code",
   "execution_count": 26,
   "metadata": {},
   "outputs": [
    {
     "data": {
      "text/plain": [
       "2023"
      ]
     },
     "execution_count": 26,
     "metadata": {},
     "output_type": "execute_result"
    }
   ],
   "source": [
    "df.loc[2300,\"annee\"]"
   ]
  },
  {
   "cell_type": "markdown",
   "metadata": {},
   "source": [
    "Pour exporter"
   ]
  },
  {
   "cell_type": "code",
   "execution_count": 27,
   "metadata": {},
   "outputs": [],
   "source": [
    "df.to_excel(\"export.xlsx\")"
   ]
  },
  {
   "cell_type": "markdown",
   "metadata": {},
   "source": [
    "Quel est le projet le plus financé en 2020"
   ]
  },
  {
   "cell_type": "code",
   "execution_count": 39,
   "metadata": {},
   "outputs": [
    {
     "data": {
      "text/html": [
       "<div>\n",
       "<style scoped>\n",
       "    .dataframe tbody tr th:only-of-type {\n",
       "        vertical-align: middle;\n",
       "    }\n",
       "\n",
       "    .dataframe tbody tr th {\n",
       "        vertical-align: top;\n",
       "    }\n",
       "\n",
       "    .dataframe thead th {\n",
       "        text-align: right;\n",
       "    }\n",
       "</style>\n",
       "<table border=\"1\" class=\"dataframe\">\n",
       "  <thead>\n",
       "    <tr style=\"text-align: right;\">\n",
       "      <th></th>\n",
       "      <th>Projet.Code_Decision_ANR</th>\n",
       "      <th>annee</th>\n",
       "      <th>Projet.Acronyme</th>\n",
       "      <th>Projet.Titre.Francais</th>\n",
       "      <th>Projet.Titre.Anglais</th>\n",
       "      <th>Projet.Resume.Francais</th>\n",
       "      <th>Projet.Resume.Anglais</th>\n",
       "      <th>Programme.Acronyme</th>\n",
       "      <th>montant</th>\n",
       "      <th>Projet.T0 scientifique</th>\n",
       "    </tr>\n",
       "  </thead>\n",
       "  <tbody>\n",
       "    <tr>\n",
       "      <th>8634</th>\n",
       "      <td>ANR-20-THIA-0013</td>\n",
       "      <td>2020</td>\n",
       "      <td>UDOPIA</td>\n",
       "      <td>Programme Doctoral en Intelligence Artificiell...</td>\n",
       "      <td>Université Paris-Saclay Doctoral Programme in ...</td>\n",
       "      <td>Le programme de doctorat UDOPIA en intelligenc...</td>\n",
       "      <td>The UDOPIA doctoral program in Artificial Inte...</td>\n",
       "      <td>PNIA</td>\n",
       "      <td>1800000.0</td>\n",
       "      <td>2020-09-01</td>\n",
       "    </tr>\n",
       "    <tr>\n",
       "      <th>8658</th>\n",
       "      <td>ANR-20-SEBM-0001</td>\n",
       "      <td>2020</td>\n",
       "      <td>PLANT</td>\n",
       "      <td>Priorité aux menaces des toxines de plantes: m...</td>\n",
       "      <td>Priority to threats posed by plant toxins: man...</td>\n",
       "      <td>.Les toxines biologiques sont une source de pr...</td>\n",
       "      <td>Biological toxins are a focus of concern by pu...</td>\n",
       "      <td>SEBM</td>\n",
       "      <td>1577808.0</td>\n",
       "      <td>2021-03-01</td>\n",
       "    </tr>\n",
       "  </tbody>\n",
       "</table>\n",
       "</div>"
      ],
      "text/plain": [
       "     Projet.Code_Decision_ANR  annee Projet.Acronyme  \\\n",
       "8634         ANR-20-THIA-0013   2020          UDOPIA   \n",
       "8658         ANR-20-SEBM-0001   2020           PLANT   \n",
       "\n",
       "                                  Projet.Titre.Francais  \\\n",
       "8634  Programme Doctoral en Intelligence Artificiell...   \n",
       "8658  Priorité aux menaces des toxines de plantes: m...   \n",
       "\n",
       "                                   Projet.Titre.Anglais  \\\n",
       "8634  Université Paris-Saclay Doctoral Programme in ...   \n",
       "8658  Priority to threats posed by plant toxins: man...   \n",
       "\n",
       "                                 Projet.Resume.Francais  \\\n",
       "8634  Le programme de doctorat UDOPIA en intelligenc...   \n",
       "8658  .Les toxines biologiques sont une source de pr...   \n",
       "\n",
       "                                  Projet.Resume.Anglais Programme.Acronyme  \\\n",
       "8634  The UDOPIA doctoral program in Artificial Inte...               PNIA   \n",
       "8658  Biological toxins are a focus of concern by pu...               SEBM   \n",
       "\n",
       "        montant Projet.T0 scientifique  \n",
       "8634  1800000.0             2020-09-01  \n",
       "8658  1577808.0             2021-03-01  "
      ]
     },
     "execution_count": 39,
     "metadata": {},
     "output_type": "execute_result"
    }
   ],
   "source": [
    "df[df[\"annee\"] == 2020].sort_values(\"montant\", ascending=False)[0:2]"
   ]
  },
  {
   "cell_type": "code",
   "execution_count": 42,
   "metadata": {},
   "outputs": [
    {
     "data": {
      "text/plain": [
       "62.219525598000004"
      ]
     },
     "execution_count": 42,
     "metadata": {},
     "output_type": "execute_result"
    }
   ],
   "source": [
    "df[df[\"annee\"] == 2020][\"montant\"].sum()/10e6"
   ]
  },
  {
   "cell_type": "code",
   "execution_count": 52,
   "metadata": {},
   "outputs": [
    {
     "data": {
      "text/plain": [
       "<Axes: title={'center': 'Nombre de projets par années'}, xlabel='Années', ylabel='Nombre de projets'>"
      ]
     },
     "execution_count": 52,
     "metadata": {},
     "output_type": "execute_result"
    },
    {
     "data": {
      "image/png": "[encoded data removed]",
      "text/plain": [
       "<Figure size 640x480 with 1 Axes>"
      ]
     },
     "metadata": {},
     "output_type": "display_data"
    }
   ],
   "source": [
    "df[\"annee\"].value_counts().sort_index().plot(kind='bar', title=\"Nombre de projets par années\", xlabel = \"Années\", ylabel = \"Nombre de projets\")"
   ]
  },
  {
   "cell_type": "code",
   "execution_count": 55,
   "metadata": {},
   "outputs": [
    {
     "data": {
      "text/plain": [
       "<Axes: xlabel='annee'>"
      ]
     },
     "execution_count": 55,
     "metadata": {},
     "output_type": "execute_result"
    },
    {
     "data": {
      "image/png": "[encoded data removed]",
      "text/plain": [
       "<Figure size 640x480 with 1 Axes>"
      ]
     },
     "metadata": {},
     "output_type": "display_data"
    }
   ],
   "source": [
    "df.groupby(\"annee\")[\"montant\"].std().plot()"
   ]
  },
  {
   "cell_type": "code",
   "execution_count": 63,
   "metadata": {},
   "outputs": [
    {
     "name": "stderr",
     "output_type": "stream",
     "text": [
      "/var/folders/f9/d2d_05ws5gncmml0fx0c00kw0000gp/T/ipykernel_6910/1191315583.py:1: FutureWarning: Downcasting object dtype arrays on .fillna, .ffill, .bfill is deprecated and will change in a future version. Call result.infer_objects(copy=False) instead. To opt-in to the future behavior, set `pd.set_option('future.no_silent_downcasting', True)`\n",
      "  f = df[\"Projet.Titre.Francais\"].str.lower().str.contains(\"science ouverte\").fillna(False)\n"
     ]
    }
   ],
   "source": [
    "f = df[\"Projet.Titre.Francais\"].str.lower().str.contains(\"science ouverte\").fillna(False)"
   ]
  },
  {
   "cell_type": "code",
   "execution_count": 66,
   "metadata": {},
   "outputs": [
    {
     "data": {
      "text/plain": [
       "['Science ouverte pour les Sciences Humaines et Sociales',\n",
       " 'Appliquer la Science Ouverte aux Données Issues de projets supportés par des appels d’Offres nationaux à enjeux sociétaux',\n",
       " 'Traduction automatique pour la science ouverte',\n",
       " 'Impulser la science ouverte au sein du Dispositif de Recherche Interdisciplinaire sur les Interactions Hommes-Milieux (DRIIHM) : co-design d’une e-infrastructure intégrant les principes FAIR',\n",
       " 'Science ouverte pour la Conservation / Restauration du patrimoine culturel',\n",
       " 'Matilda: un outil biobliographique et bibliométrique pour la science ouverte']"
      ]
     },
     "execution_count": 66,
     "metadata": {},
     "output_type": "execute_result"
    }
   ],
   "source": [
    "list(df[f][\"Projet.Titre.Francais\"])"
   ]
  },
  {
   "cell_type": "code",
   "execution_count": 75,
   "metadata": {},
   "outputs": [
    {
     "name": "stderr",
     "output_type": "stream",
     "text": [
      "/var/folders/f9/d2d_05ws5gncmml0fx0c00kw0000gp/T/ipykernel_6910/615132348.py:1: FutureWarning: Downcasting object dtype arrays on .fillna, .ffill, .bfill is deprecated and will change in a future version. Call result.infer_objects(copy=False) instead. To opt-in to the future behavior, set `pd.set_option('future.no_silent_downcasting', True)`\n",
      "  f = df[\"Projet.Resume.Anglais\"].str.lower().str.contains(\"artificial intelligence\").fillna(False)\n"
     ]
    }
   ],
   "source": [
    "f = df[\"Projet.Resume.Anglais\"].str.lower().str.contains(\"artificial intelligence\").fillna(False)"
   ]
  },
  {
   "cell_type": "code",
   "execution_count": 77,
   "metadata": {},
   "outputs": [],
   "source": [
    "df[\"ia\"] = f"
   ]
  },
  {
   "cell_type": "code",
   "execution_count": 79,
   "metadata": {},
   "outputs": [
    {
     "data": {
      "text/plain": [
       "<Axes: xlabel='annee'>"
      ]
     },
     "execution_count": 79,
     "metadata": {},
     "output_type": "execute_result"
    },
    {
     "data": {
      "image/png": "[encoded data removed]",
      "text/plain": [
       "<Figure size 640x480 with 1 Axes>"
      ]
     },
     "metadata": {},
     "output_type": "display_data"
    }
   ],
   "source": [
    "df.groupby(\"annee\")[\"ia\"].sum().plot()"
   ]
  },
  {
   "cell_type": "markdown",
   "metadata": {},
   "source": [
    "User guide : https://pandas.pydata.org/docs/user_guide/10min.html  \n",
    "Cheat Sheet : https://pandas.pydata.org/Pandas_Cheat_Sheet.pdf"
   ]
  },
  {
   "cell_type": "markdown",
   "metadata": {},
   "source": [
    "## Importer Pandas\n",
    "\n",
    "Et le format DataFrame"
   ]
  },
  {
   "cell_type": "markdown",
   "metadata": {},
   "source": [
    "## Charger des données"
   ]
  },
  {
   "cell_type": "markdown",
   "metadata": {},
   "source": [
    "## Explorer les données"
   ]
  },
  {
   "cell_type": "markdown",
   "metadata": {},
   "source": [
    "**Quelques outils utiles :**  \n",
    "- `.info()` des infos sur notre df  \n",
    "- `.shape` sa \"forme\"  \n",
    "- `.columns` les colonnes  \n",
    "- `.dtypes` le type des données  \n",
    "- `.head()` afficher les premières observations  \n",
    "- `.tail()` afficher la fin du df  \n",
    "- `.describe()` description basique  "
   ]
  },
  {
   "cell_type": "markdown",
   "metadata": {},
   "source": [
    "## Manipuler un DataFrame\n",
    "\n",
    "- sélectionner une colonne, une ligne, un élément\n",
    "- comprendre l'indexation (iloc, loc)"
   ]
  },
  {
   "cell_type": "markdown",
   "metadata": {},
   "source": [
    "## Calculer sur des colonnes"
   ]
  },
  {
   "cell_type": "markdown",
   "metadata": {},
   "source": [
    "Quelques outils utiles pour décrire les données :\n",
    "\n",
    "- `mean()`\n",
    "- `std()`\n",
    "- `min()`\n",
    "- `max()`\n",
    "- `count()`\n",
    "- `describe()`\n",
    "- `unique()` (et `nunique()`)\n",
    "- `value_counts()`"
   ]
  },
  {
   "cell_type": "markdown",
   "metadata": {},
   "source": [
    "## Aller vers une base de données\n",
    "\n",
    "- filtrer\n",
    "- grouper\n",
    "- aller plus loin (join, etc.)"
   ]
  },
  {
   "cell_type": "markdown",
   "metadata": {},
   "source": [
    "## Modifier le tableau\n",
    "\n",
    "- colonnes, index\n",
    "- contenu"
   ]
  },
  {
   "cell_type": "markdown",
   "metadata": {},
   "source": [
    "## Recoder\n",
    "\n",
    "- remplacer\n",
    "- valeurs nulles\n",
    "- fonctions comme .cut\n",
    "- solition générique de .apply"
   ]
  },
  {
   "cell_type": "markdown",
   "metadata": {},
   "source": [
    "## Faire des statistiques\n",
    "\n",
    "- univariées\n",
    "- bivariées : tableau croisé\n",
    "- grouper des tableaux (.concat)\n",
    "- visualisations"
   ]
  },
  {
   "cell_type": "markdown",
   "metadata": {},
   "source": [
    "## Sauvegarder les données"
   ]
  },
  {
   "cell_type": "markdown",
   "metadata": {},
   "source": [
    "## Et plein d'autres choses \n",
    "\n",
    "- échantillon aléatoire avec .sample()"
   ]
  }
 ],
 "metadata": {
  "kernelspec": {
   "display_name": "Python 3 (ipykernel)",
   "language": "python",
   "name": "python3"
  },
  "language_info": {
   "codemirror_mode": {
    "name": "ipython",
    "version": 3
   },
   "file_extension": ".py",
   "mimetype": "text/x-python",
   "name": "python",
   "nbconvert_exporter": "python",
   "pygments_lexer": "ipython3",
   "version": "3.11.7"
  }
 },
 "nbformat": 4,
 "nbformat_minor": 4
}
