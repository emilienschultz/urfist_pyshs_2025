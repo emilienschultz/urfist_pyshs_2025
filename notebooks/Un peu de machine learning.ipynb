{
 "cells": [
  {
   "cell_type": "markdown",
   "metadata": {},
   "source": [
    "# De la représentation au machine learning\n",
    "\n",
    "Un exemple parmi d'autres\n",
    "\n",
    "- une représentation numérique\n",
    "- un modèle (supevisé ou non supervisé) en fonction de la tâche"
   ]
  },
  {
   "cell_type": "code",
   "execution_count": 4,
   "metadata": {},
   "outputs": [],
   "source": [
    "#!pip install scipy"
   ]
  },
  {
   "cell_type": "markdown",
   "metadata": {},
   "source": [
    "## Charger les données"
   ]
  },
  {
   "cell_type": "code",
   "execution_count": 1,
   "metadata": {},
   "outputs": [
    {
     "data": {
      "text/html": [
       "<div>\n",
       "<style scoped>\n",
       "    .dataframe tbody tr th:only-of-type {\n",
       "        vertical-align: middle;\n",
       "    }\n",
       "\n",
       "    .dataframe tbody tr th {\n",
       "        vertical-align: top;\n",
       "    }\n",
       "\n",
       "    .dataframe thead th {\n",
       "        text-align: right;\n",
       "    }\n",
       "</style>\n",
       "<table border=\"1\" class=\"dataframe\">\n",
       "  <thead>\n",
       "    <tr style=\"text-align: right;\">\n",
       "      <th></th>\n",
       "      <th>Unnamed: 0</th>\n",
       "      <th>numero</th>\n",
       "      <th>date</th>\n",
       "      <th>texte</th>\n",
       "      <th>texte_net</th>\n",
       "    </tr>\n",
       "  </thead>\n",
       "  <tbody>\n",
       "    <tr>\n",
       "      <th>0</th>\n",
       "      <td>0</td>\n",
       "      <td>3063</td>\n",
       "      <td>03/06/2020</td>\n",
       "      <td>&lt;/p&gt;&lt;p align=\"CENTER\"&gt; RÔLE DES COLLECTIVITÉS ...</td>\n",
       "      <td>RÔLE DES COLLECTIVITÉS LOCALES DANS LA LUTTE C...</td>\n",
       "    </tr>\n",
       "    <tr>\n",
       "      <th>1</th>\n",
       "      <td>1</td>\n",
       "      <td>3599</td>\n",
       "      <td>09/12/2020</td>\n",
       "      <td>&lt;/p&gt;&lt;p align=\"CENTER\"&gt; CONTRÔLE DES EXPORTATIO...</td>\n",
       "      <td>CONTRÔLE DES EXPORTATIONS D'ARMEMENT M. le pré...</td>\n",
       "    </tr>\n",
       "    <tr>\n",
       "      <th>2</th>\n",
       "      <td>2</td>\n",
       "      <td>89</td>\n",
       "      <td>10/08/2017</td>\n",
       "      <td>&lt;/p&gt;&lt;p align=\"CENTER\"&gt; TAXE DE SÉJOUR &lt;a name=...</td>\n",
       "      <td>TAXE DE SÉJOUR M. le président. La parole est ...</td>\n",
       "    </tr>\n",
       "    <tr>\n",
       "      <th>3</th>\n",
       "      <td>3</td>\n",
       "      <td>348</td>\n",
       "      <td>29/11/2017</td>\n",
       "      <td>&lt;/p&gt;&lt;p align=\"CENTER\"&gt; LISTE NOIRE DES PARADIS...</td>\n",
       "      <td>LISTE NOIRE DES PARADIS FISCAUX M. le présiden...</td>\n",
       "    </tr>\n",
       "    <tr>\n",
       "      <th>4</th>\n",
       "      <td>4</td>\n",
       "      <td>3433</td>\n",
       "      <td>21/10/2020</td>\n",
       "      <td>&lt;/p&gt;&lt;p align=\"CENTER\"&gt; LUTTE CONTRE LE FINANCE...</td>\n",
       "      <td>LUTTE CONTRE LE FINANCEMENT DU TERRORISME M. l...</td>\n",
       "    </tr>\n",
       "  </tbody>\n",
       "</table>\n",
       "</div>"
      ],
      "text/plain": [
       "   Unnamed: 0  numero        date  \\\n",
       "0           0    3063  03/06/2020   \n",
       "1           1    3599  09/12/2020   \n",
       "2           2      89  10/08/2017   \n",
       "3           3     348  29/11/2017   \n",
       "4           4    3433  21/10/2020   \n",
       "\n",
       "                                               texte  \\\n",
       "0  </p><p align=\"CENTER\"> RÔLE DES COLLECTIVITÉS ...   \n",
       "1  </p><p align=\"CENTER\"> CONTRÔLE DES EXPORTATIO...   \n",
       "2  </p><p align=\"CENTER\"> TAXE DE SÉJOUR <a name=...   \n",
       "3  </p><p align=\"CENTER\"> LISTE NOIRE DES PARADIS...   \n",
       "4  </p><p align=\"CENTER\"> LUTTE CONTRE LE FINANCE...   \n",
       "\n",
       "                                           texte_net  \n",
       "0  RÔLE DES COLLECTIVITÉS LOCALES DANS LA LUTTE C...  \n",
       "1  CONTRÔLE DES EXPORTATIONS D'ARMEMENT M. le pré...  \n",
       "2  TAXE DE SÉJOUR M. le président. La parole est ...  \n",
       "3  LISTE NOIRE DES PARADIS FISCAUX M. le présiden...  \n",
       "4  LUTTE CONTRE LE FINANCEMENT DU TERRORISME M. l...  "
      ]
     },
     "execution_count": 1,
     "metadata": {},
     "output_type": "execute_result"
    }
   ],
   "source": [
    "import pandas as pd\n",
    "df = pd.read_csv(\"./data/dataframe.csv\")\n",
    "df.head()"
   ]
  },
  {
   "cell_type": "markdown",
   "metadata": {},
   "source": [
    "## Calculer une représentation tf-idf"
   ]
  },
  {
   "cell_type": "code",
   "execution_count": 5,
   "metadata": {},
   "outputs": [],
   "source": [
    "from sklearn.feature_extraction.text import TfidfVectorizer\n",
    "from scipy.cluster.hierarchy import dendrogram, linkage\n",
    "import matplotlib.pyplot as plt\n",
    "\n",
    "vectorizer = TfidfVectorizer()\n",
    "tfidf_matrix = vectorizer.fit_transform(df['texte_net'])"
   ]
  },
  {
   "cell_type": "markdown",
   "metadata": {},
   "source": [
    "## Faire une classification hiérarchique ascendante\n"
   ]
  },
  {
   "cell_type": "markdown",
   "metadata": {},
   "source": [
    "Calcule la distance entre chaque texte"
   ]
  },
  {
   "cell_type": "code",
   "execution_count": 6,
   "metadata": {},
   "outputs": [],
   "source": [
    "Z = linkage(tfidf_matrix.toarray(), method='ward') "
   ]
  },
  {
   "cell_type": "markdown",
   "metadata": {},
   "source": [
    "Faire une représentation"
   ]
  },
  {
   "cell_type": "code",
   "execution_count": 7,
   "metadata": {},
   "outputs": [
    {
     "data": {
      "image/png": "[encoded data removed]",
      "text/plain": [
       "<Figure size 500x500 with 1 Axes>"
      ]
     },
     "metadata": {},
     "output_type": "display_data"
    }
   ],
   "source": [
    "import matplotlib.pyplot as plt\n",
    "\n",
    "plt.figure(figsize=(5, 5))\n",
    "dendrogram(Z, orientation='right')\n",
    "plt.title(\"Classification Hiérarchique Ascendante (CHA)\")\n",
    "plt.tight_layout()\n",
    "plt.show()"
   ]
  },
  {
   "cell_type": "markdown",
   "metadata": {},
   "source": [
    "Quels sont les questions les plus fréquentes ? Sont-elles posées sur les mêmes périodes ?"
   ]
  },
  {
   "cell_type": "code",
   "execution_count": 9,
   "metadata": {},
   "outputs": [],
   "source": [
    "from sklearn.cluster import AgglomerativeClustering\n",
    "cluster = AgglomerativeClustering(n_clusters=12,  linkage='ward')\n",
    "labels = cluster.fit_predict(tfidf_matrix.toarray())\n",
    "df['cluster'] = labels"
   ]
  },
  {
   "cell_type": "code",
   "execution_count": 11,
   "metadata": {},
   "outputs": [
    {
     "data": {
      "text/plain": [
       "0     1543\n",
       "4      768\n",
       "1      679\n",
       "2      521\n",
       "3      366\n",
       "6      249\n",
       "8      201\n",
       "5      190\n",
       "11     115\n",
       "9       88\n",
       "10      71\n",
       "7       59\n",
       "Name: cluster, dtype: int64"
      ]
     },
     "execution_count": 11,
     "metadata": {},
     "output_type": "execute_result"
    }
   ],
   "source": [
    "df['cluster'].value_counts()"
   ]
  },
  {
   "cell_type": "markdown",
   "metadata": {},
   "source": [
    "Faire une représentation temporelle des clusters"
   ]
  },
  {
   "cell_type": "code",
   "execution_count": null,
   "metadata": {},
   "outputs": [],
   "source": [
    "fig, ax = plt.subplots(figsize=(10, 5))\n",
    "df['date_val'] = pd.to_datetime(df['date'])\n",
    "df.set_index('date_val').resample('ME')[\"cluster\"].value_counts().unstack().plot(ax = ax);"
   ]
  },
  {
   "cell_type": "markdown",
   "metadata": {},
   "source": [
    "### Quel est le contenu des clusters ?\n",
    "\n",
    "Comment faire pour faire un résumé des clusters ? "
   ]
  },
  {
   "cell_type": "markdown",
   "metadata": {},
   "source": [
    "Une réponse : prendre la liste des mots les plus spécifiques"
   ]
  },
  {
   "cell_type": "code",
   "execution_count": 14,
   "metadata": {},
   "outputs": [],
   "source": [
    "df_w = pd.DataFrame(tfidf_matrix.toarray(), \n",
    "                    columns=vectorizer.get_feature_names_out()) "
   ]
  },
  {
   "cell_type": "code",
   "execution_count": 16,
   "metadata": {},
   "outputs": [
    {
     "data": {
      "text/plain": [
       "vietnam         0.459576\n",
       "sahel           0.476618\n",
       "raqqa           0.476782\n",
       "britanniques    0.486635\n",
       "schengen        0.487241\n",
       "hezbollah       0.488382\n",
       "cameroun        0.499767\n",
       "iran            0.506251\n",
       "russie          0.519686\n",
       "tchad           0.521178\n",
       "arménie         0.531633\n",
       "g7              0.535722\n",
       "mali            0.543667\n",
       "libye           0.546106\n",
       "paludisme       0.563212\n",
       "liban           0.569404\n",
       "irlande         0.576808\n",
       "instex          0.590632\n",
       "algérie         0.647363\n",
       "taïwan          0.746740\n",
       "dtype: float64"
      ]
     },
     "execution_count": 16,
     "metadata": {},
     "output_type": "execute_result"
    }
   ],
   "source": [
    "df_w[df[\"cluster\"] == 3].max().sort_values()[-20:]"
   ]
  },
  {
   "cell_type": "markdown",
   "metadata": {},
   "source": [
    "On peut améliorer :\n",
    "\n",
    "- le choix des clusters\n",
    "- la manière de résumer un cluster\n",
    "- la représentation des textes\n",
    "- le découpage des textes"
   ]
  },
  {
   "cell_type": "markdown",
   "metadata": {},
   "source": [
    "## D'autres embeddings\n",
    "\n",
    "Par exemple, les modèles fasttext https://fasttext.cc/"
   ]
  },
  {
   "cell_type": "code",
   "execution_count": null,
   "metadata": {},
   "outputs": [],
   "source": [
    "from gensim.models.fasttext import load_facebook_vectors\n",
    "import numpy as np"
   ]
  },
  {
   "cell_type": "code",
   "execution_count": null,
   "metadata": {},
   "outputs": [],
   "source": [
    "# Télécharger ce modèle depuis https://fasttext.cc/docs/en/crawl-vectors.html\n",
    "model = load_facebook_vectors('../../../../../../Documents/models/cc.fr.300.bin')"
   ]
  },
  {
   "cell_type": "code",
   "execution_count": null,
   "metadata": {},
   "outputs": [],
   "source": [
    "def document_vector(words):\n",
    "    word_vecs = [model[word] for word in words if word in model]\n",
    "    return np.mean(word_vecs, axis=0) if word_vecs else np.zeros(model.vector_size)\n",
    "\n",
    "# Matrice d'embeddings\n",
    "X_embed = np.array([document_vector(doc) for doc in documents])\n",
    "print(X_embed.shape)"
   ]
  },
  {
   "cell_type": "markdown",
   "metadata": {},
   "source": [
    "Ou bien utiliser sbert https://sbert.net/ \n",
    "\n",
    "On voit apparaître de plus en plus de modèles"
   ]
  },
  {
   "cell_type": "markdown",
   "metadata": {},
   "source": [
    "Ensuite la logique est la même..."
   ]
  },
  {
   "cell_type": "markdown",
   "metadata": {},
   "source": [
    "## Empiler les traitements : BERTOPIC\n",
    "\n",
    "Utiliser les différentes couches ensemble pour faire de la détection de thématiques : pipelines comme [BERTOPIC](https://maartengr.github.io/BERTopic/index.html)\n",
    "\n",
    "![](../slides/img/bertopic.png)\n",
    "\n",
    "[Faisons un test sur les données](https://maartengr.github.io/BERTopic/getting_started/quickstart/quickstart.html)\n"
   ]
  },
  {
   "cell_type": "code",
   "execution_count": null,
   "metadata": {},
   "outputs": [],
   "source": [
    "import nltk\n",
    "from nltk.corpus import stopwords\n",
    "from sentence_transformers import SentenceTransformer\n",
    "from sklearn.feature_extraction.text import CountVectorizer\n",
    "import bertopic\n",
    "\n",
    "nltk.download(\"stopwords\")\n",
    "french_stopwords = list(set(stopwords.words(\"french\")))\n",
    "vectorizer_model = CountVectorizer(stop_words=french_stopwords)\n",
    "topic_model = bertopic.BERTopic(            language=\"french\", \n",
    "            vectorizer_model=vectorizer_model)\n",
    "topics, probs = topic_model.fit_transform(df['texte'])"
   ]
  },
  {
   "cell_type": "code",
   "execution_count": null,
   "metadata": {},
   "outputs": [],
   "source": [
    "topic_model.get_topic_info()"
   ]
  },
  {
   "cell_type": "code",
   "execution_count": null,
   "metadata": {},
   "outputs": [],
   "source": []
  }
 ],
 "metadata": {
  "kernelspec": {
   "display_name": "Python 3 (ipykernel)",
   "language": "python",
   "name": "python3"
  },
  "language_info": {
   "codemirror_mode": {
    "name": "ipython",
    "version": 3
   },
   "file_extension": ".py",
   "mimetype": "text/x-python",
   "name": "python",
   "nbconvert_exporter": "python",
   "pygments_lexer": "ipython3",
   "version": "3.11.7"
  }
 },
 "nbformat": 4,
 "nbformat_minor": 4
}
